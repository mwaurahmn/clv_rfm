{
 "cells": [
  {
   "cell_type": "markdown",
   "id": "c139acd0",
   "metadata": {},
   "source": [
    "# Data Preparation"
   ]
  },
  {
   "cell_type": "markdown",
   "id": "9b563773",
   "metadata": {},
   "source": [
    "The aim of this project phase is to load and transform the project data, making it ready for further analysis and main project execution."
   ]
  },
  {
   "cell_type": "markdown",
   "id": "4ebbf0a0",
   "metadata": {},
   "source": [
    "## The Dataset"
   ]
  },
  {
   "cell_type": "markdown",
   "id": "dfad2aec",
   "metadata": {},
   "source": [
    "The dataset in use was obtained from [UC Irvine Machine Learning Repository](https://archive.ics.uci.edu/dataset/502/online+retail+ii). It contains the records of all transactions done for a UK-based, giftware online retail store."
   ]
  },
  {
   "cell_type": "markdown",
   "id": "5c3faae0",
   "metadata": {},
   "source": [
    "## Load Dependencies"
   ]
  },
  {
   "cell_type": "code",
   "execution_count": 1,
   "id": "fd965e33",
   "metadata": {},
   "outputs": [],
   "source": [
    "# Module containing all dependencies\n",
    "import src.dependencies as dep\n",
    "\n",
    "# Module containing custom functions\n",
    "import src.functions as fn"
   ]
  },
  {
   "cell_type": "markdown",
   "id": "a4be315c",
   "metadata": {},
   "source": [
    "## Load the Data"
   ]
  },
  {
   "cell_type": "code",
   "execution_count": 2,
   "id": "00874662",
   "metadata": {},
   "outputs": [
    {
     "data": {
      "text/html": [
       "<div>\n",
       "<style scoped>\n",
       "    .dataframe tbody tr th:only-of-type {\n",
       "        vertical-align: middle;\n",
       "    }\n",
       "\n",
       "    .dataframe tbody tr th {\n",
       "        vertical-align: top;\n",
       "    }\n",
       "\n",
       "    .dataframe thead th {\n",
       "        text-align: right;\n",
       "    }\n",
       "</style>\n",
       "<table border=\"1\" class=\"dataframe\">\n",
       "  <thead>\n",
       "    <tr style=\"text-align: right;\">\n",
       "      <th></th>\n",
       "      <th>Invoice</th>\n",
       "      <th>StockCode</th>\n",
       "      <th>Description</th>\n",
       "      <th>Quantity</th>\n",
       "      <th>InvoiceDate</th>\n",
       "      <th>Price</th>\n",
       "      <th>Customer ID</th>\n",
       "      <th>Country</th>\n",
       "    </tr>\n",
       "  </thead>\n",
       "  <tbody>\n",
       "    <tr>\n",
       "      <th>0</th>\n",
       "      <td>489434</td>\n",
       "      <td>85048</td>\n",
       "      <td>15CM CHRISTMAS GLASS BALL 20 LIGHTS</td>\n",
       "      <td>12</td>\n",
       "      <td>2009-12-01 07:45:00</td>\n",
       "      <td>6.95</td>\n",
       "      <td>13085.0</td>\n",
       "      <td>United Kingdom</td>\n",
       "    </tr>\n",
       "    <tr>\n",
       "      <th>1</th>\n",
       "      <td>489434</td>\n",
       "      <td>79323P</td>\n",
       "      <td>PINK CHERRY LIGHTS</td>\n",
       "      <td>12</td>\n",
       "      <td>2009-12-01 07:45:00</td>\n",
       "      <td>6.75</td>\n",
       "      <td>13085.0</td>\n",
       "      <td>United Kingdom</td>\n",
       "    </tr>\n",
       "    <tr>\n",
       "      <th>2</th>\n",
       "      <td>489434</td>\n",
       "      <td>79323W</td>\n",
       "      <td>WHITE CHERRY LIGHTS</td>\n",
       "      <td>12</td>\n",
       "      <td>2009-12-01 07:45:00</td>\n",
       "      <td>6.75</td>\n",
       "      <td>13085.0</td>\n",
       "      <td>United Kingdom</td>\n",
       "    </tr>\n",
       "    <tr>\n",
       "      <th>3</th>\n",
       "      <td>489434</td>\n",
       "      <td>22041</td>\n",
       "      <td>RECORD FRAME 7\" SINGLE SIZE</td>\n",
       "      <td>48</td>\n",
       "      <td>2009-12-01 07:45:00</td>\n",
       "      <td>2.10</td>\n",
       "      <td>13085.0</td>\n",
       "      <td>United Kingdom</td>\n",
       "    </tr>\n",
       "    <tr>\n",
       "      <th>4</th>\n",
       "      <td>489434</td>\n",
       "      <td>21232</td>\n",
       "      <td>STRAWBERRY CERAMIC TRINKET BOX</td>\n",
       "      <td>24</td>\n",
       "      <td>2009-12-01 07:45:00</td>\n",
       "      <td>1.25</td>\n",
       "      <td>13085.0</td>\n",
       "      <td>United Kingdom</td>\n",
       "    </tr>\n",
       "  </tbody>\n",
       "</table>\n",
       "</div>"
      ],
      "text/plain": [
       "  Invoice StockCode                          Description  Quantity  \\\n",
       "0  489434     85048  15CM CHRISTMAS GLASS BALL 20 LIGHTS        12   \n",
       "1  489434    79323P                   PINK CHERRY LIGHTS        12   \n",
       "2  489434    79323W                  WHITE CHERRY LIGHTS        12   \n",
       "3  489434     22041         RECORD FRAME 7\" SINGLE SIZE         48   \n",
       "4  489434     21232       STRAWBERRY CERAMIC TRINKET BOX        24   \n",
       "\n",
       "          InvoiceDate  Price  Customer ID         Country  \n",
       "0 2009-12-01 07:45:00   6.95      13085.0  United Kingdom  \n",
       "1 2009-12-01 07:45:00   6.75      13085.0  United Kingdom  \n",
       "2 2009-12-01 07:45:00   6.75      13085.0  United Kingdom  \n",
       "3 2009-12-01 07:45:00   2.10      13085.0  United Kingdom  \n",
       "4 2009-12-01 07:45:00   1.25      13085.0  United Kingdom  "
      ]
     },
     "execution_count": 2,
     "metadata": {},
     "output_type": "execute_result"
    }
   ],
   "source": [
    "# Get the data file\n",
    "data_file = 'dataset/online_retail_II.xlsx'\n",
    "\n",
    "# Load data in respective sheets\n",
    "sheet1 = dep.pd.read_excel(data_file, sheet_name = 'Year 2009-2010')\n",
    "sheet2 = dep.pd.read_excel(data_file, sheet_name = 'Year 2010-2011')\n",
    "\n",
    "# Join data in both sheets\n",
    "df = dep.pd.concat([sheet1, sheet2])\n",
    "\n",
    "# Confirm data has been loaded successfully\n",
    "df.head()"
   ]
  },
  {
   "cell_type": "markdown",
   "id": "b3d172c4",
   "metadata": {},
   "source": [
    "## Data Cleaning"
   ]
  },
  {
   "cell_type": "markdown",
   "id": "30ea8280",
   "metadata": {},
   "source": [
    "### Duplicates"
   ]
  },
  {
   "cell_type": "markdown",
   "id": "c3609242",
   "metadata": {},
   "source": [
    "Check for and eliminate duplicate rows. In instances where there are duplicate rows, the first duplicate will be kept."
   ]
  },
  {
   "cell_type": "code",
   "execution_count": 3,
   "id": "65298950",
   "metadata": {},
   "outputs": [
    {
     "name": "stdout",
     "output_type": "stream",
     "text": [
      "There were 34335 duplicate rows, and 0 duplicate rows after elimination.\n"
     ]
    }
   ],
   "source": [
    "# Eliminate duplicate rows\n",
    "before, after, df = fn.duplicate_rows(df)\n",
    "print('There were {} duplicate rows, and {} duplicate rows after elimination.'.format(before, after))"
   ]
  },
  {
   "cell_type": "markdown",
   "id": "4e08a7a2",
   "metadata": {},
   "source": [
    "### Missing Values"
   ]
  },
  {
   "cell_type": "markdown",
   "id": "faf43655",
   "metadata": {},
   "source": [
    "Check if there are any missing values in the data."
   ]
  },
  {
   "cell_type": "code",
   "execution_count": 4,
   "id": "acafb1e0",
   "metadata": {},
   "outputs": [
    {
     "data": {
      "text/plain": [
       "Invoice             0\n",
       "StockCode           0\n",
       "Description      4275\n",
       "Quantity            0\n",
       "InvoiceDate         0\n",
       "Price               0\n",
       "Customer ID    235151\n",
       "Country             0\n",
       "dtype: int64"
      ]
     },
     "execution_count": 4,
     "metadata": {},
     "output_type": "execute_result"
    }
   ],
   "source": [
    "# Count of missing values\n",
    "df.isnull().sum()"
   ]
  },
  {
   "cell_type": "markdown",
   "id": "851cf24a",
   "metadata": {},
   "source": [
    "There are some entries without a description, but all have a stock code, therefore the lack of the description is not crucial.\n",
    "\n",
    "Conversely, a customer identifier is essential in predicting the lifetime value. As a result, all entries without a customer identifier will be dropped."
   ]
  },
  {
   "cell_type": "code",
   "execution_count": 5,
   "id": "f13335d2",
   "metadata": {},
   "outputs": [
    {
     "data": {
      "text/plain": [
       "0"
      ]
     },
     "execution_count": 5,
     "metadata": {},
     "output_type": "execute_result"
    }
   ],
   "source": [
    "# Drop entries without customer ID\n",
    "df = df.dropna(subset = ['Customer ID'])\n",
    "\n",
    "# Confirm all entries have customer ID\n",
    "df['Customer ID'].isnull().sum()"
   ]
  },
  {
   "cell_type": "markdown",
   "id": "18935da3",
   "metadata": {},
   "source": [
    "### Data Types"
   ]
  },
  {
   "cell_type": "markdown",
   "id": "febc9610",
   "metadata": {},
   "source": [
    "Confirm that the data has been represented in the correct data types."
   ]
  },
  {
   "cell_type": "code",
   "execution_count": 6,
   "id": "358c9edd",
   "metadata": {},
   "outputs": [
    {
     "data": {
      "text/plain": [
       "Invoice                object\n",
       "StockCode              object\n",
       "Description            object\n",
       "Quantity                int64\n",
       "InvoiceDate    datetime64[ns]\n",
       "Price                 float64\n",
       "Customer ID           float64\n",
       "Country                object\n",
       "dtype: object"
      ]
     },
     "execution_count": 6,
     "metadata": {},
     "output_type": "execute_result"
    }
   ],
   "source": [
    "# Check respective data types\n",
    "df.dtypes"
   ]
  },
  {
   "cell_type": "markdown",
   "id": "df7d639d",
   "metadata": {},
   "source": [
    "Referencing the sample data displayed in the **Loading the Data** section, all columns have the correct data types except `Invoice` and `Customer ID`.\n",
    "\n",
    "`Invoice` data type will be changed from _object_ to _integer_.\n",
    "\n",
    "`Customer ID` data type will be changed from _float_ to _integer_."
   ]
  },
  {
   "cell_type": "code",
   "execution_count": 21,
   "id": "1b5ba697",
   "metadata": {},
   "outputs": [
    {
     "data": {
      "text/plain": [
       "Invoice                 int32\n",
       "StockCode              object\n",
       "Description            object\n",
       "Quantity                int64\n",
       "InvoiceDate    datetime64[ns]\n",
       "Price                 float64\n",
       "Customer ID             int32\n",
       "Country                object\n",
       "dtype: object"
      ]
     },
     "execution_count": 21,
     "metadata": {},
     "output_type": "execute_result"
    }
   ],
   "source": [
    "# Ensure entries in Invoice column are numeric\n",
    "df['Invoice'] = df['Invoice'].astype(str)\n",
    "df['Invoice'] = df['Invoice'].str.extract('(\\d+)', expand = False)\n",
    "\n",
    "# Convert respective columns\n",
    "df['Invoice'] = df['Invoice'].astype(int)\n",
    "df['Customer ID'] = df['Customer ID'].astype(int)\n",
    "\n",
    "# Confirm conversion\n",
    "df.dtypes"
   ]
  },
  {
   "cell_type": "markdown",
   "id": "9e80ada4",
   "metadata": {},
   "source": [
    "### Outliers"
   ]
  },
  {
   "cell_type": "markdown",
   "id": "ab01e74e",
   "metadata": {},
   "source": [
    "Using the data description, check if there are any outliers in the data, specifically, quantity and price entries."
   ]
  },
  {
   "cell_type": "code",
   "execution_count": 25,
   "id": "a0a2dbe0",
   "metadata": {},
   "outputs": [
    {
     "data": {
      "text/html": [
       "<div>\n",
       "<style scoped>\n",
       "    .dataframe tbody tr th:only-of-type {\n",
       "        vertical-align: middle;\n",
       "    }\n",
       "\n",
       "    .dataframe tbody tr th {\n",
       "        vertical-align: top;\n",
       "    }\n",
       "\n",
       "    .dataframe thead th {\n",
       "        text-align: right;\n",
       "    }\n",
       "</style>\n",
       "<table border=\"1\" class=\"dataframe\">\n",
       "  <thead>\n",
       "    <tr style=\"text-align: right;\">\n",
       "      <th></th>\n",
       "      <th>Quantity</th>\n",
       "      <th>Price</th>\n",
       "    </tr>\n",
       "  </thead>\n",
       "  <tbody>\n",
       "    <tr>\n",
       "      <th>count</th>\n",
       "      <td>797885.000000</td>\n",
       "      <td>797885.000000</td>\n",
       "    </tr>\n",
       "    <tr>\n",
       "      <th>mean</th>\n",
       "      <td>12.602980</td>\n",
       "      <td>3.702732</td>\n",
       "    </tr>\n",
       "    <tr>\n",
       "      <th>std</th>\n",
       "      <td>191.670371</td>\n",
       "      <td>71.392549</td>\n",
       "    </tr>\n",
       "    <tr>\n",
       "      <th>min</th>\n",
       "      <td>-80995.000000</td>\n",
       "      <td>0.000000</td>\n",
       "    </tr>\n",
       "    <tr>\n",
       "      <th>25%</th>\n",
       "      <td>2.000000</td>\n",
       "      <td>1.250000</td>\n",
       "    </tr>\n",
       "    <tr>\n",
       "      <th>50%</th>\n",
       "      <td>5.000000</td>\n",
       "      <td>1.950000</td>\n",
       "    </tr>\n",
       "    <tr>\n",
       "      <th>75%</th>\n",
       "      <td>12.000000</td>\n",
       "      <td>3.750000</td>\n",
       "    </tr>\n",
       "    <tr>\n",
       "      <th>max</th>\n",
       "      <td>80995.000000</td>\n",
       "      <td>38970.000000</td>\n",
       "    </tr>\n",
       "  </tbody>\n",
       "</table>\n",
       "</div>"
      ],
      "text/plain": [
       "            Quantity          Price\n",
       "count  797885.000000  797885.000000\n",
       "mean       12.602980       3.702732\n",
       "std       191.670371      71.392549\n",
       "min    -80995.000000       0.000000\n",
       "25%         2.000000       1.250000\n",
       "50%         5.000000       1.950000\n",
       "75%        12.000000       3.750000\n",
       "max     80995.000000   38970.000000"
      ]
     },
     "execution_count": 25,
     "metadata": {},
     "output_type": "execute_result"
    }
   ],
   "source": [
    "# Statistical summary\n",
    "df[['Quantity', 'Price']].describe()"
   ]
  },
  {
   "cell_type": "markdown",
   "id": "63205802",
   "metadata": {},
   "source": [
    "The expectation is that both `Quantity` and `Price` only contain positive entries. From the result set above, `Quantity` has some negative entries. \n",
    "\n",
    "Upon consultation, it's been established that the negative entries in the `Quantity` column imply a sales return, therefore there are no outliers in the data."
   ]
  },
  {
   "cell_type": "markdown",
   "id": "2f48a63c",
   "metadata": {},
   "source": [
    "## Transformed Data"
   ]
  },
  {
   "cell_type": "markdown",
   "id": "bbee19b8",
   "metadata": {},
   "source": [
    "The cleaned data will be saved in a csv file."
   ]
  },
  {
   "cell_type": "code",
   "execution_count": 26,
   "id": "2334865a",
   "metadata": {},
   "outputs": [],
   "source": [
    "# Save the dataframe to a CSV file\n",
    "df.to_csv('dataset/Transformed.csv')"
   ]
  },
  {
   "cell_type": "code",
   "execution_count": null,
   "id": "78b491c2",
   "metadata": {},
   "outputs": [],
   "source": []
  }
 ],
 "metadata": {
  "kernelspec": {
   "display_name": "Python 3 (ipykernel)",
   "language": "python",
   "name": "python3"
  },
  "language_info": {
   "codemirror_mode": {
    "name": "ipython",
    "version": 3
   },
   "file_extension": ".py",
   "mimetype": "text/x-python",
   "name": "python",
   "nbconvert_exporter": "python",
   "pygments_lexer": "ipython3",
   "version": "3.9.12"
  }
 },
 "nbformat": 4,
 "nbformat_minor": 5
}
