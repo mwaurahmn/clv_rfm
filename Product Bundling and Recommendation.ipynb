{
 "cells": [
  {
   "cell_type": "markdown",
   "id": "01966303",
   "metadata": {},
   "source": [
    "# Product Bundling and Recommendation"
   ]
  },
  {
   "cell_type": "markdown",
   "id": "b46adee2",
   "metadata": {},
   "source": [
    "## Product Bundling"
   ]
  },
  {
   "cell_type": "markdown",
   "id": "8b9a89d5",
   "metadata": {},
   "source": [
    "![Example Product Bundle. Credits: Burger King](https://cxl.com/wp-content/uploads/2018/10/burger-king-bundle.png)"
   ]
  },
  {
   "cell_type": "markdown",
   "id": "da2ef879",
   "metadata": {},
   "source": [
    "<p style = 'text-align: center;'>Image Credits: Burger King</p>"
   ]
  },
  {
   "cell_type": "markdown",
   "id": "88f71c6c",
   "metadata": {},
   "source": [
    "Product bundling refers to grouping products or services together for sale as one package, as illustrated in the image above."
   ]
  },
  {
   "cell_type": "markdown",
   "id": "1511ee87",
   "metadata": {},
   "source": [
    "In order to identify the products that are ideal for bundling, we will perform **market basket analysis** which is a data mining technique used to identify relationships between products that are frequently purchased together. In technical terms, _market basket analysis_ is **Association Rule Mining** whose goal is to identify rules that describe the likelihood of a product being purchased together with other products."
   ]
  },
  {
   "cell_type": "markdown",
   "id": "5ab3b335",
   "metadata": {},
   "source": [
    "There is a number of algorithms that one can use to perform market basket analysis including:\n",
    "- Apriori Algorithm\n",
    "- AIS Algorithm\n",
    "- SETM Algorithm\n",
    "- FP Growth Algorithm\n",
    "\n",
    "**Apriori algorithm** is a _popular_ algorithm in association rule mining and it _performs better_ than AIS and SETM algorithms. However, it is _computationally expensive_ when working on a large dataset therefore we shall use **FP Growth algorithm** which is an advancement of Apriori algorithm."
   ]
  },
  {
   "cell_type": "markdown",
   "id": "a0f1d4e3",
   "metadata": {},
   "source": [
    "### Import Packages"
   ]
  },
  {
   "cell_type": "code",
   "execution_count": 1,
   "id": "7c80884b",
   "metadata": {},
   "outputs": [],
   "source": [
    "# Module containing all libraries used\n",
    "import src.dependencies as dep\n",
    "\n",
    "# Module containing custom functions\n",
    "import src.functions as fn"
   ]
  },
  {
   "cell_type": "markdown",
   "id": "6645ed49",
   "metadata": {},
   "source": [
    "### Load the Dataset"
   ]
  },
  {
   "cell_type": "markdown",
   "id": "7f1302ea",
   "metadata": {},
   "source": [
    "The dataset is the transformed version obtained from [UC Irvine Machine Learning Repository](https://archive.ics.uci.edu/dataset/502/online+retail+ii)."
   ]
  },
  {
   "cell_type": "code",
   "execution_count": 2,
   "id": "4cb840de",
   "metadata": {},
   "outputs": [
    {
     "data": {
      "text/html": [
       "<div>\n",
       "<style scoped>\n",
       "    .dataframe tbody tr th:only-of-type {\n",
       "        vertical-align: middle;\n",
       "    }\n",
       "\n",
       "    .dataframe tbody tr th {\n",
       "        vertical-align: top;\n",
       "    }\n",
       "\n",
       "    .dataframe thead th {\n",
       "        text-align: right;\n",
       "    }\n",
       "</style>\n",
       "<table border=\"1\" class=\"dataframe\">\n",
       "  <thead>\n",
       "    <tr style=\"text-align: right;\">\n",
       "      <th></th>\n",
       "      <th>Invoice</th>\n",
       "      <th>StockCode</th>\n",
       "      <th>Description</th>\n",
       "      <th>Quantity</th>\n",
       "      <th>InvoiceDate</th>\n",
       "      <th>Price</th>\n",
       "      <th>Customer ID</th>\n",
       "      <th>Country</th>\n",
       "    </tr>\n",
       "  </thead>\n",
       "  <tbody>\n",
       "    <tr>\n",
       "      <th>0</th>\n",
       "      <td>489434</td>\n",
       "      <td>85048</td>\n",
       "      <td>15CM CHRISTMAS GLASS BALL 20 LIGHTS</td>\n",
       "      <td>12</td>\n",
       "      <td>2009-12-01 07:45:00</td>\n",
       "      <td>6.95</td>\n",
       "      <td>13085</td>\n",
       "      <td>United Kingdom</td>\n",
       "    </tr>\n",
       "    <tr>\n",
       "      <th>1</th>\n",
       "      <td>489434</td>\n",
       "      <td>79323P</td>\n",
       "      <td>PINK CHERRY LIGHTS</td>\n",
       "      <td>12</td>\n",
       "      <td>2009-12-01 07:45:00</td>\n",
       "      <td>6.75</td>\n",
       "      <td>13085</td>\n",
       "      <td>United Kingdom</td>\n",
       "    </tr>\n",
       "    <tr>\n",
       "      <th>2</th>\n",
       "      <td>489434</td>\n",
       "      <td>79323W</td>\n",
       "      <td>WHITE CHERRY LIGHTS</td>\n",
       "      <td>12</td>\n",
       "      <td>2009-12-01 07:45:00</td>\n",
       "      <td>6.75</td>\n",
       "      <td>13085</td>\n",
       "      <td>United Kingdom</td>\n",
       "    </tr>\n",
       "    <tr>\n",
       "      <th>3</th>\n",
       "      <td>489434</td>\n",
       "      <td>22041</td>\n",
       "      <td>RECORD FRAME 7\" SINGLE SIZE</td>\n",
       "      <td>48</td>\n",
       "      <td>2009-12-01 07:45:00</td>\n",
       "      <td>2.10</td>\n",
       "      <td>13085</td>\n",
       "      <td>United Kingdom</td>\n",
       "    </tr>\n",
       "    <tr>\n",
       "      <th>4</th>\n",
       "      <td>489434</td>\n",
       "      <td>21232</td>\n",
       "      <td>STRAWBERRY CERAMIC TRINKET BOX</td>\n",
       "      <td>24</td>\n",
       "      <td>2009-12-01 07:45:00</td>\n",
       "      <td>1.25</td>\n",
       "      <td>13085</td>\n",
       "      <td>United Kingdom</td>\n",
       "    </tr>\n",
       "  </tbody>\n",
       "</table>\n",
       "</div>"
      ],
      "text/plain": [
       "   Invoice StockCode                          Description  Quantity  \\\n",
       "0   489434     85048  15CM CHRISTMAS GLASS BALL 20 LIGHTS        12   \n",
       "1   489434    79323P                   PINK CHERRY LIGHTS        12   \n",
       "2   489434    79323W                  WHITE CHERRY LIGHTS        12   \n",
       "3   489434     22041         RECORD FRAME 7\" SINGLE SIZE         48   \n",
       "4   489434     21232       STRAWBERRY CERAMIC TRINKET BOX        24   \n",
       "\n",
       "           InvoiceDate  Price  Customer ID         Country  \n",
       "0  2009-12-01 07:45:00   6.95        13085  United Kingdom  \n",
       "1  2009-12-01 07:45:00   6.75        13085  United Kingdom  \n",
       "2  2009-12-01 07:45:00   6.75        13085  United Kingdom  \n",
       "3  2009-12-01 07:45:00   2.10        13085  United Kingdom  \n",
       "4  2009-12-01 07:45:00   1.25        13085  United Kingdom  "
      ]
     },
     "execution_count": 2,
     "metadata": {},
     "output_type": "execute_result"
    }
   ],
   "source": [
    "# Load data\n",
    "df = dep.pd.read_csv('dataset/Transformed.csv')\n",
    "\n",
    "# Confirm successful loading\n",
    "df.head()"
   ]
  },
  {
   "cell_type": "markdown",
   "id": "8754c076",
   "metadata": {},
   "source": [
    "### Preprocess the Data"
   ]
  },
  {
   "cell_type": "markdown",
   "id": "78e06a4d",
   "metadata": {},
   "source": [
    "Since the data is already transformed, we will proceed to extract the data we need to implement the FP Growth algorithm. The features of interest are:\n",
    "- `Invoice`: It acts as the transaction identifier\n",
    "- `StockCode`: It acts as the product identifier"
   ]
  },
  {
   "cell_type": "code",
   "execution_count": 3,
   "id": "39cd971b",
   "metadata": {},
   "outputs": [
    {
     "data": {
      "text/html": [
       "<div>\n",
       "<style scoped>\n",
       "    .dataframe tbody tr th:only-of-type {\n",
       "        vertical-align: middle;\n",
       "    }\n",
       "\n",
       "    .dataframe tbody tr th {\n",
       "        vertical-align: top;\n",
       "    }\n",
       "\n",
       "    .dataframe thead th {\n",
       "        text-align: right;\n",
       "    }\n",
       "</style>\n",
       "<table border=\"1\" class=\"dataframe\">\n",
       "  <thead>\n",
       "    <tr style=\"text-align: right;\">\n",
       "      <th></th>\n",
       "      <th>Transaction</th>\n",
       "      <th>Products</th>\n",
       "    </tr>\n",
       "  </thead>\n",
       "  <tbody>\n",
       "    <tr>\n",
       "      <th>0</th>\n",
       "      <td>489434</td>\n",
       "      <td>85048</td>\n",
       "    </tr>\n",
       "    <tr>\n",
       "      <th>1</th>\n",
       "      <td>489434</td>\n",
       "      <td>79323P</td>\n",
       "    </tr>\n",
       "    <tr>\n",
       "      <th>2</th>\n",
       "      <td>489434</td>\n",
       "      <td>79323W</td>\n",
       "    </tr>\n",
       "    <tr>\n",
       "      <th>3</th>\n",
       "      <td>489434</td>\n",
       "      <td>22041</td>\n",
       "    </tr>\n",
       "    <tr>\n",
       "      <th>4</th>\n",
       "      <td>489434</td>\n",
       "      <td>21232</td>\n",
       "    </tr>\n",
       "  </tbody>\n",
       "</table>\n",
       "</div>"
      ],
      "text/plain": [
       "   Transaction Products\n",
       "0       489434    85048\n",
       "1       489434   79323P\n",
       "2       489434   79323W\n",
       "3       489434    22041\n",
       "4       489434    21232"
      ]
     },
     "execution_count": 3,
     "metadata": {},
     "output_type": "execute_result"
    }
   ],
   "source": [
    "# Get features\n",
    "features_df = df[['Invoice', 'StockCode']]\n",
    "\n",
    "# Rename them\n",
    "features_df = features_df.rename(columns = {'Invoice': 'Transaction', 'StockCode': 'Products'})\n",
    "features_df.head()"
   ]
  },
  {
   "cell_type": "markdown",
   "id": "f1995820",
   "metadata": {},
   "source": [
    "Next, we have to group the items in a transaction, as a list, figuratively, place the products in the invoice 'cart'."
   ]
  },
  {
   "cell_type": "code",
   "execution_count": 4,
   "id": "adeba112",
   "metadata": {},
   "outputs": [
    {
     "data": {
      "text/html": [
       "<div>\n",
       "<style scoped>\n",
       "    .dataframe tbody tr th:only-of-type {\n",
       "        vertical-align: middle;\n",
       "    }\n",
       "\n",
       "    .dataframe tbody tr th {\n",
       "        vertical-align: top;\n",
       "    }\n",
       "\n",
       "    .dataframe thead th {\n",
       "        text-align: right;\n",
       "    }\n",
       "</style>\n",
       "<table border=\"1\" class=\"dataframe\">\n",
       "  <thead>\n",
       "    <tr style=\"text-align: right;\">\n",
       "      <th></th>\n",
       "      <th>Transaction</th>\n",
       "      <th>Products</th>\n",
       "    </tr>\n",
       "  </thead>\n",
       "  <tbody>\n",
       "    <tr>\n",
       "      <th>0</th>\n",
       "      <td>489434</td>\n",
       "      <td>[85048, 79323P, 79323W, 22041, 21232, 22064, 2...</td>\n",
       "    </tr>\n",
       "    <tr>\n",
       "      <th>1</th>\n",
       "      <td>489435</td>\n",
       "      <td>[22350, 22349, 22195, 22353]</td>\n",
       "    </tr>\n",
       "    <tr>\n",
       "      <th>2</th>\n",
       "      <td>489436</td>\n",
       "      <td>[48173C, 21755, 21754, 84879, 22119, 22142, 22...</td>\n",
       "    </tr>\n",
       "    <tr>\n",
       "      <th>3</th>\n",
       "      <td>489437</td>\n",
       "      <td>[22143, 22145, 22130, 21364, 21360, 21351, 213...</td>\n",
       "    </tr>\n",
       "    <tr>\n",
       "      <th>4</th>\n",
       "      <td>489438</td>\n",
       "      <td>[21329, 21252, 21100, 21033, 20711, 21410, 214...</td>\n",
       "    </tr>\n",
       "  </tbody>\n",
       "</table>\n",
       "</div>"
      ],
      "text/plain": [
       "   Transaction                                           Products\n",
       "0       489434  [85048, 79323P, 79323W, 22041, 21232, 22064, 2...\n",
       "1       489435                       [22350, 22349, 22195, 22353]\n",
       "2       489436  [48173C, 21755, 21754, 84879, 22119, 22142, 22...\n",
       "3       489437  [22143, 22145, 22130, 21364, 21360, 21351, 213...\n",
       "4       489438  [21329, 21252, 21100, 21033, 20711, 21410, 214..."
      ]
     },
     "execution_count": 4,
     "metadata": {},
     "output_type": "execute_result"
    }
   ],
   "source": [
    "# Group the items\n",
    "transactions_df = features_df.groupby('Transaction')['Products'].apply(list).reset_index()\n",
    "transactions_df.head()"
   ]
  },
  {
   "cell_type": "markdown",
   "id": "b9433302",
   "metadata": {},
   "source": [
    "We will also convert the `Products` column into a list, making it a list of lists."
   ]
  },
  {
   "cell_type": "code",
   "execution_count": 5,
   "id": "9761cde1",
   "metadata": {},
   "outputs": [
    {
     "data": {
      "text/plain": [
       "[['85048', '79323P', '79323W', '22041', '21232', '22064', '21871', '21523'],\n",
       " ['22350', '22349', '22195', '22353']]"
      ]
     },
     "execution_count": 5,
     "metadata": {},
     "output_type": "execute_result"
    }
   ],
   "source": [
    "# Get the lists of products\n",
    "transactions = transactions_df['Products'].tolist()\n",
    "\n",
    "# Check the first 2 entries in the list\n",
    "transactions[0:2]"
   ]
  },
  {
   "cell_type": "markdown",
   "id": "6e11c176",
   "metadata": {},
   "source": [
    "Finally, encode the transactions into a NumPy array."
   ]
  },
  {
   "cell_type": "code",
   "execution_count": 6,
   "id": "3945af1d",
   "metadata": {},
   "outputs": [],
   "source": [
    "# Encode\n",
    "encoder = dep.TransactionEncoder()\n",
    "encoded_transactions = encoder.fit(transactions).transform(transactions)"
   ]
  },
  {
   "cell_type": "markdown",
   "id": "6ebfe1e5",
   "metadata": {},
   "source": [
    "### Modeling"
   ]
  },
  {
   "cell_type": "markdown",
   "id": "c203c15e",
   "metadata": {},
   "source": [
    "We will generate the frequent itemsets using `fpgrowth()` function. Since the function expects a one-hot encoded DataFrame, we will convert the encoded array into a dataframe first."
   ]
  },
  {
   "cell_type": "code",
   "execution_count": 7,
   "id": "a6bf2c16",
   "metadata": {},
   "outputs": [
    {
     "data": {
      "text/html": [
       "<div>\n",
       "<style scoped>\n",
       "    .dataframe tbody tr th:only-of-type {\n",
       "        vertical-align: middle;\n",
       "    }\n",
       "\n",
       "    .dataframe tbody tr th {\n",
       "        vertical-align: top;\n",
       "    }\n",
       "\n",
       "    .dataframe thead th {\n",
       "        text-align: right;\n",
       "    }\n",
       "</style>\n",
       "<table border=\"1\" class=\"dataframe\">\n",
       "  <thead>\n",
       "    <tr style=\"text-align: right;\">\n",
       "      <th></th>\n",
       "      <th>10002</th>\n",
       "      <th>10080</th>\n",
       "      <th>10109</th>\n",
       "      <th>10120</th>\n",
       "      <th>10123C</th>\n",
       "      <th>10123G</th>\n",
       "      <th>10124A</th>\n",
       "      <th>10124G</th>\n",
       "      <th>10125</th>\n",
       "      <th>10133</th>\n",
       "      <th>...</th>\n",
       "      <th>C2</th>\n",
       "      <th>CRUK</th>\n",
       "      <th>D</th>\n",
       "      <th>DOT</th>\n",
       "      <th>M</th>\n",
       "      <th>PADS</th>\n",
       "      <th>POST</th>\n",
       "      <th>SP1002</th>\n",
       "      <th>TEST001</th>\n",
       "      <th>TEST002</th>\n",
       "    </tr>\n",
       "  </thead>\n",
       "  <tbody>\n",
       "    <tr>\n",
       "      <th>0</th>\n",
       "      <td>False</td>\n",
       "      <td>False</td>\n",
       "      <td>False</td>\n",
       "      <td>False</td>\n",
       "      <td>False</td>\n",
       "      <td>False</td>\n",
       "      <td>False</td>\n",
       "      <td>False</td>\n",
       "      <td>False</td>\n",
       "      <td>False</td>\n",
       "      <td>...</td>\n",
       "      <td>False</td>\n",
       "      <td>False</td>\n",
       "      <td>False</td>\n",
       "      <td>False</td>\n",
       "      <td>False</td>\n",
       "      <td>False</td>\n",
       "      <td>False</td>\n",
       "      <td>False</td>\n",
       "      <td>False</td>\n",
       "      <td>False</td>\n",
       "    </tr>\n",
       "    <tr>\n",
       "      <th>1</th>\n",
       "      <td>False</td>\n",
       "      <td>False</td>\n",
       "      <td>False</td>\n",
       "      <td>False</td>\n",
       "      <td>False</td>\n",
       "      <td>False</td>\n",
       "      <td>False</td>\n",
       "      <td>False</td>\n",
       "      <td>False</td>\n",
       "      <td>False</td>\n",
       "      <td>...</td>\n",
       "      <td>False</td>\n",
       "      <td>False</td>\n",
       "      <td>False</td>\n",
       "      <td>False</td>\n",
       "      <td>False</td>\n",
       "      <td>False</td>\n",
       "      <td>False</td>\n",
       "      <td>False</td>\n",
       "      <td>False</td>\n",
       "      <td>False</td>\n",
       "    </tr>\n",
       "    <tr>\n",
       "      <th>2</th>\n",
       "      <td>False</td>\n",
       "      <td>False</td>\n",
       "      <td>False</td>\n",
       "      <td>False</td>\n",
       "      <td>False</td>\n",
       "      <td>False</td>\n",
       "      <td>False</td>\n",
       "      <td>False</td>\n",
       "      <td>False</td>\n",
       "      <td>False</td>\n",
       "      <td>...</td>\n",
       "      <td>False</td>\n",
       "      <td>False</td>\n",
       "      <td>False</td>\n",
       "      <td>False</td>\n",
       "      <td>False</td>\n",
       "      <td>False</td>\n",
       "      <td>False</td>\n",
       "      <td>False</td>\n",
       "      <td>False</td>\n",
       "      <td>False</td>\n",
       "    </tr>\n",
       "    <tr>\n",
       "      <th>3</th>\n",
       "      <td>True</td>\n",
       "      <td>False</td>\n",
       "      <td>False</td>\n",
       "      <td>False</td>\n",
       "      <td>False</td>\n",
       "      <td>False</td>\n",
       "      <td>False</td>\n",
       "      <td>False</td>\n",
       "      <td>False</td>\n",
       "      <td>False</td>\n",
       "      <td>...</td>\n",
       "      <td>False</td>\n",
       "      <td>False</td>\n",
       "      <td>False</td>\n",
       "      <td>False</td>\n",
       "      <td>False</td>\n",
       "      <td>False</td>\n",
       "      <td>False</td>\n",
       "      <td>False</td>\n",
       "      <td>False</td>\n",
       "      <td>False</td>\n",
       "    </tr>\n",
       "    <tr>\n",
       "      <th>4</th>\n",
       "      <td>False</td>\n",
       "      <td>False</td>\n",
       "      <td>False</td>\n",
       "      <td>False</td>\n",
       "      <td>False</td>\n",
       "      <td>False</td>\n",
       "      <td>False</td>\n",
       "      <td>False</td>\n",
       "      <td>False</td>\n",
       "      <td>False</td>\n",
       "      <td>...</td>\n",
       "      <td>False</td>\n",
       "      <td>False</td>\n",
       "      <td>False</td>\n",
       "      <td>False</td>\n",
       "      <td>False</td>\n",
       "      <td>False</td>\n",
       "      <td>False</td>\n",
       "      <td>False</td>\n",
       "      <td>False</td>\n",
       "      <td>False</td>\n",
       "    </tr>\n",
       "  </tbody>\n",
       "</table>\n",
       "<p>5 rows × 4646 columns</p>\n",
       "</div>"
      ],
      "text/plain": [
       "   10002  10080  10109  10120  10123C  10123G  10124A  10124G  10125  10133  \\\n",
       "0  False  False  False  False   False   False   False   False  False  False   \n",
       "1  False  False  False  False   False   False   False   False  False  False   \n",
       "2  False  False  False  False   False   False   False   False  False  False   \n",
       "3   True  False  False  False   False   False   False   False  False  False   \n",
       "4  False  False  False  False   False   False   False   False  False  False   \n",
       "\n",
       "   ...     C2   CRUK      D    DOT      M   PADS   POST  SP1002  TEST001  \\\n",
       "0  ...  False  False  False  False  False  False  False   False    False   \n",
       "1  ...  False  False  False  False  False  False  False   False    False   \n",
       "2  ...  False  False  False  False  False  False  False   False    False   \n",
       "3  ...  False  False  False  False  False  False  False   False    False   \n",
       "4  ...  False  False  False  False  False  False  False   False    False   \n",
       "\n",
       "   TEST002  \n",
       "0    False  \n",
       "1    False  \n",
       "2    False  \n",
       "3    False  \n",
       "4    False  \n",
       "\n",
       "[5 rows x 4646 columns]"
      ]
     },
     "execution_count": 7,
     "metadata": {},
     "output_type": "execute_result"
    }
   ],
   "source": [
    "# Array to Dataframe\n",
    "encoded_df = dep.pd.DataFrame(encoded_transactions, columns = encoder.columns_)\n",
    "encoded_df.head()"
   ]
  },
  {
   "cell_type": "markdown",
   "id": "44389e21",
   "metadata": {},
   "source": [
    "The syntax of the `fpgrowth()` function is:\n",
    "\n",
    "**_fpgrowth(df, min_support=0.5, use_colnames=False, max_len=None, verbose=0)_**\n",
    "\n",
    "Where:\n",
    "- _df_ - One-hot encoded DataFrame, our `encoded_df` DataFrame.\n",
    "- _min_support_ - A float between 0 and 1 for minimum support of the itemsets returned, with **_support_** being a fraction of the number of transactions where the item occurs divided by total transactions. The default value is 0.5, but we will set it lower, say 0.015 due to the many products.\n",
    "- _use_colnames_ - It is fault by default, yielding column indices but we are interested in the products identifiers, therefore, we shall set it to true.\n",
    "- _max_len_ - It refers to the maximum length of the itemsets generated. We shall leave the default setting.\n",
    "- _verbose_ - It shows the stages of conditional tree generation. We shall leave the default setting."
   ]
  },
  {
   "cell_type": "code",
   "execution_count": 8,
   "id": "237ecc9f",
   "metadata": {},
   "outputs": [],
   "source": [
    "# Generate Frequent itemsets\n",
    "freq_itemsets = dep.fpgrowth(encoded_df, min_support = 0.015, use_colnames = True)"
   ]
  },
  {
   "cell_type": "code",
   "execution_count": 9,
   "id": "be69f66c",
   "metadata": {},
   "outputs": [
    {
     "data": {
      "text/html": [
       "<div>\n",
       "<style scoped>\n",
       "    .dataframe tbody tr th:only-of-type {\n",
       "        vertical-align: middle;\n",
       "    }\n",
       "\n",
       "    .dataframe tbody tr th {\n",
       "        vertical-align: top;\n",
       "    }\n",
       "\n",
       "    .dataframe thead th {\n",
       "        text-align: right;\n",
       "    }\n",
       "</style>\n",
       "<table border=\"1\" class=\"dataframe\">\n",
       "  <thead>\n",
       "    <tr style=\"text-align: right;\">\n",
       "      <th></th>\n",
       "      <th>support</th>\n",
       "      <th>itemsets</th>\n",
       "    </tr>\n",
       "  </thead>\n",
       "  <tbody>\n",
       "    <tr>\n",
       "      <th>19</th>\n",
       "      <td>0.017961</td>\n",
       "      <td>(85014B)</td>\n",
       "    </tr>\n",
       "    <tr>\n",
       "      <th>198</th>\n",
       "      <td>0.017894</td>\n",
       "      <td>(22625)</td>\n",
       "    </tr>\n",
       "    <tr>\n",
       "      <th>85</th>\n",
       "      <td>0.030662</td>\n",
       "      <td>(22077)</td>\n",
       "    </tr>\n",
       "  </tbody>\n",
       "</table>\n",
       "</div>"
      ],
      "text/plain": [
       "      support  itemsets\n",
       "19   0.017961  (85014B)\n",
       "198  0.017894   (22625)\n",
       "85   0.030662   (22077)"
      ]
     },
     "execution_count": 9,
     "metadata": {},
     "output_type": "execute_result"
    }
   ],
   "source": [
    "#Sample of frequent itemsets\n",
    "freq_itemsets.sample(3)"
   ]
  },
  {
   "cell_type": "markdown",
   "id": "91a1789e",
   "metadata": {},
   "source": [
    "Using the frequent itemsets generated, we will generate their **association rules**, which express the likelihood of products being purchased together. An association rule is an implication expression of the form X→Y, where X and Y are disjoint itemsets, with X being the antecedent and Y, the consequent.\n",
    "\n",
    "The syntax for `association_rules()` is:\n",
    "\n",
    "**association_rules(df, metric='confidence', min_threshold=0.8, support_only=False)**\n",
    "\n",
    "Where:\n",
    "- _df_ - DataFrame of frequent itemsets.\n",
    "- _metric_ - Metric to evaluate if a rule is of interest. The default value is 'confidence'. The other supported metrics are 'support', 'confidence', 'lift', 'leverage', and 'conviction'. These metrics are defined in the glossary section.\n",
    "- _min_threshold_ - Minimal threshold for the evaluation metric, default is 0.8.\n",
    "- _support_only_ - It only computes the rule support, and the default value is False."
   ]
  },
  {
   "cell_type": "code",
   "execution_count": 10,
   "id": "017bc871",
   "metadata": {},
   "outputs": [
    {
     "data": {
      "text/html": [
       "<div>\n",
       "<style scoped>\n",
       "    .dataframe tbody tr th:only-of-type {\n",
       "        vertical-align: middle;\n",
       "    }\n",
       "\n",
       "    .dataframe tbody tr th {\n",
       "        vertical-align: top;\n",
       "    }\n",
       "\n",
       "    .dataframe thead th {\n",
       "        text-align: right;\n",
       "    }\n",
       "</style>\n",
       "<table border=\"1\" class=\"dataframe\">\n",
       "  <thead>\n",
       "    <tr style=\"text-align: right;\">\n",
       "      <th></th>\n",
       "      <th>antecedents</th>\n",
       "      <th>consequents</th>\n",
       "      <th>antecedent support</th>\n",
       "      <th>consequent support</th>\n",
       "      <th>support</th>\n",
       "      <th>confidence</th>\n",
       "      <th>lift</th>\n",
       "      <th>leverage</th>\n",
       "      <th>conviction</th>\n",
       "    </tr>\n",
       "  </thead>\n",
       "  <tbody>\n",
       "    <tr>\n",
       "      <th>17</th>\n",
       "      <td>(22726)</td>\n",
       "      <td>(22727)</td>\n",
       "      <td>0.023687</td>\n",
       "      <td>0.026206</td>\n",
       "      <td>0.015799</td>\n",
       "      <td>0.666980</td>\n",
       "      <td>25.451875</td>\n",
       "      <td>0.015178</td>\n",
       "      <td>2.924134</td>\n",
       "    </tr>\n",
       "    <tr>\n",
       "      <th>16</th>\n",
       "      <td>(22910)</td>\n",
       "      <td>(22086)</td>\n",
       "      <td>0.027855</td>\n",
       "      <td>0.038016</td>\n",
       "      <td>0.015197</td>\n",
       "      <td>0.545600</td>\n",
       "      <td>14.351902</td>\n",
       "      <td>0.014139</td>\n",
       "      <td>2.117043</td>\n",
       "    </tr>\n",
       "    <tr>\n",
       "      <th>15</th>\n",
       "      <td>(22697)</td>\n",
       "      <td>(22699)</td>\n",
       "      <td>0.022373</td>\n",
       "      <td>0.025203</td>\n",
       "      <td>0.017248</td>\n",
       "      <td>0.770916</td>\n",
       "      <td>30.588542</td>\n",
       "      <td>0.016684</td>\n",
       "      <td>4.255202</td>\n",
       "    </tr>\n",
       "    <tr>\n",
       "      <th>13</th>\n",
       "      <td>(22386)</td>\n",
       "      <td>(85099B)</td>\n",
       "      <td>0.039910</td>\n",
       "      <td>0.074494</td>\n",
       "      <td>0.023977</td>\n",
       "      <td>0.600782</td>\n",
       "      <td>8.064816</td>\n",
       "      <td>0.021004</td>\n",
       "      <td>2.318295</td>\n",
       "    </tr>\n",
       "    <tr>\n",
       "      <th>4</th>\n",
       "      <td>(84991)</td>\n",
       "      <td>(21212)</td>\n",
       "      <td>0.039620</td>\n",
       "      <td>0.056422</td>\n",
       "      <td>0.020479</td>\n",
       "      <td>0.516873</td>\n",
       "      <td>9.160817</td>\n",
       "      <td>0.018243</td>\n",
       "      <td>1.953063</td>\n",
       "    </tr>\n",
       "  </tbody>\n",
       "</table>\n",
       "</div>"
      ],
      "text/plain": [
       "   antecedents consequents  antecedent support  consequent support   support  \\\n",
       "17     (22726)     (22727)            0.023687            0.026206  0.015799   \n",
       "16     (22910)     (22086)            0.027855            0.038016  0.015197   \n",
       "15     (22697)     (22699)            0.022373            0.025203  0.017248   \n",
       "13     (22386)    (85099B)            0.039910            0.074494  0.023977   \n",
       "4      (84991)     (21212)            0.039620            0.056422  0.020479   \n",
       "\n",
       "    confidence       lift  leverage  conviction  \n",
       "17    0.666980  25.451875  0.015178    2.924134  \n",
       "16    0.545600  14.351902  0.014139    2.117043  \n",
       "15    0.770916  30.588542  0.016684    4.255202  \n",
       "13    0.600782   8.064816  0.021004    2.318295  \n",
       "4     0.516873   9.160817  0.018243    1.953063  "
      ]
     },
     "execution_count": 10,
     "metadata": {},
     "output_type": "execute_result"
    }
   ],
   "source": [
    "# Generate association rules\n",
    "rules = dep.association_rules(freq_itemsets, metric = 'confidence', min_threshold = 0.5)\n",
    "\n",
    "# View a sample of the rules\n",
    "rules.sample(5)"
   ]
  },
  {
   "cell_type": "code",
   "execution_count": 11,
   "id": "c376a9cc",
   "metadata": {},
   "outputs": [
    {
     "data": {
      "text/plain": [
       "(19, 9)"
      ]
     },
     "execution_count": 11,
     "metadata": {},
     "output_type": "execute_result"
    }
   ],
   "source": [
    "# Check the number of rules generated with the set parameters\n",
    "rules.shape"
   ]
  },
  {
   "cell_type": "markdown",
   "id": "eb9ac083",
   "metadata": {},
   "source": [
    "A total of 19 rules have been generated, together with their respective metrics."
   ]
  },
  {
   "cell_type": "markdown",
   "id": "e2ef86c7",
   "metadata": {},
   "source": [
    "### Bundling"
   ]
  },
  {
   "cell_type": "markdown",
   "id": "536c7688",
   "metadata": {},
   "source": [
    "We can use the generated rules to help propose product bundles. First, we will sort the rules in a descending order based on respective values of the **_lift_** and **_confidence_**."
   ]
  },
  {
   "cell_type": "code",
   "execution_count": 12,
   "id": "b75365f3",
   "metadata": {},
   "outputs": [],
   "source": [
    "# Sort the rules\n",
    "sorted_rules = rules.sort_values(by=['lift', 'confidence'], ascending=[False, False])"
   ]
  },
  {
   "cell_type": "markdown",
   "id": "e5b813cc",
   "metadata": {},
   "source": [
    "Next, for now, we will limit product selection for bundling to the antecedents in our rules only."
   ]
  },
  {
   "cell_type": "code",
   "execution_count": 13,
   "id": "cccb2976",
   "metadata": {},
   "outputs": [
    {
     "data": {
      "text/plain": [
       "['22697', '22699', '22727']"
      ]
     },
     "execution_count": 13,
     "metadata": {},
     "output_type": "execute_result"
    }
   ],
   "source": [
    "# Get list of antecedents\n",
    "antecedents = fn.antecedents_list(sorted_rules)\n",
    "\n",
    "# View sample\n",
    "antecedents[:3]"
   ]
  },
  {
   "cell_type": "markdown",
   "id": "3fa70766",
   "metadata": {},
   "source": [
    "We will use a random selection of a few antecedents as the guiding items to issue the bundling suggestions."
   ]
  },
  {
   "cell_type": "code",
   "execution_count": 35,
   "id": "c85a4d57",
   "metadata": {},
   "outputs": [],
   "source": [
    "# Shopping cart contents\n",
    "shopping_cart = dep.random.sample(antecedents, 2)\n",
    "\n",
    "# Generate product bundles\n",
    "bundle = fn.propose_bundles(shopping_cart, sorted_rules, 6)"
   ]
  },
  {
   "cell_type": "code",
   "execution_count": 36,
   "id": "528bcc87",
   "metadata": {},
   "outputs": [
    {
     "name": "stdout",
     "output_type": "stream",
     "text": [
      "For [['LUNCH BAG WOODLAND'], ['60 TEATIME FAIRY CAKE CASES']] products, \n",
      "\n",
      "Proposed product bundles are [['LUNCH BAG RED SPOTTY'], ['PACK OF 72 RETRO SPOT CAKE CASES'], ['PACK OF 72 RETROSPOT CAKE CASES'], ['LUNCH BAG RED RETROSPOT']]\n"
     ]
    }
   ],
   "source": [
    "# Get respective product names\n",
    "in_cart = df.loc[df['StockCode'].isin(shopping_cart),['Description']].drop_duplicates()\n",
    "propose = df.loc[df['StockCode'].isin(bundle),['Description']].drop_duplicates()\n",
    "\n",
    "# Display Bundles\n",
    "print('For {} products, \\n\\nProposed product bundles are {}'.format(in_cart.values.tolist(), propose.values.tolist()))"
   ]
  },
  {
   "cell_type": "markdown",
   "id": "2f5dba9c",
   "metadata": {},
   "source": [
    "## Glossary"
   ]
  },
  {
   "cell_type": "markdown",
   "id": "551559c3",
   "metadata": {},
   "source": [
    "### Association Rules Metrics"
   ]
  },
  {
   "cell_type": "markdown",
   "id": "91a7724e",
   "metadata": {},
   "source": [
    "| Metric | Definition | Formula| Range |\n",
    "| :-- | :-- | :-- | :--: |\n",
    "| support | The sum of support of the antecedent and the consequent. | support(A->C) = support(A+C) | [0, 1] |\n",
    "| confidence | The likelihood of the consequent being purchased when antecedent is purchased. | confidence(A->C) = support(A+C) / support(A) | [0, 1] |\n",
    "| lift | The likelihood of the consequent being purchased when antecedent is sold, taking into account the popularity of the consequent. | lift(A->C) = confidence(A->C) / support(C) | [0, inf] |\n",
    "| leverage | The ratio of support of the association rule to the product of support of antecedent and consequent. | leverage(A->C) = support(A->C) - support(A) * support(C) | [-1, 1] |\n",
    "| conviction | Defined as (1-support of consequent) divided by (1- confidence of the association rule). | conviction(A->C) = [1 - support(C)] / [1 - confidence(A->C)] | [0, inf] |"
   ]
  },
  {
   "cell_type": "markdown",
   "id": "902cba52",
   "metadata": {},
   "source": [
    "## References"
   ]
  },
  {
   "cell_type": "markdown",
   "id": "16b5d58d",
   "metadata": {},
   "source": [
    "- [Apriori Algorithm in Machine Learning](https://www.javatpoint.com/apriori-algorithm-in-machine-learning)\n",
    "- [FP Growth Algorithm Explained With Numerical Example](https://codinginfinite.com/fp-growth-algorithm-explained-with-numerical-example/)\n",
    "- [Implement FP Growth Algorithm in Python](https://codinginfinite.com/implement-fp-growth-algorithm-in-python/)\n",
    "- [Introduction to Apriori Algorithm in Python](https://intellipaat.com/blog/data-science-apriori-algorithm/)\n",
    "- [Market Basket Analysis: A Comprehensive Guide for Businesses](https://www.analyticsvidhya.com/blog/2021/10/a-comprehensive-guide-on-market-basket-analysis/)\n",
    "- [Product Sales Analysis Using Python](https://medium.com/swlh/product-sales-analysis-using-python-863b29026957)"
   ]
  },
  {
   "cell_type": "code",
   "execution_count": null,
   "id": "a3782b58",
   "metadata": {},
   "outputs": [],
   "source": []
  }
 ],
 "metadata": {
  "kernelspec": {
   "display_name": "Python 3 (ipykernel)",
   "language": "python",
   "name": "python3"
  },
  "language_info": {
   "codemirror_mode": {
    "name": "ipython",
    "version": 3
   },
   "file_extension": ".py",
   "mimetype": "text/x-python",
   "name": "python",
   "nbconvert_exporter": "python",
   "pygments_lexer": "ipython3",
   "version": "3.9.12"
  }
 },
 "nbformat": 4,
 "nbformat_minor": 5
}
