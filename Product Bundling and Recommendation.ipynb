{
 "cells": [
  {
   "cell_type": "markdown",
   "id": "01966303",
   "metadata": {},
   "source": [
    "# Product Bundling and Recommendation"
   ]
  },
  {
   "cell_type": "markdown",
   "id": "b46adee2",
   "metadata": {},
   "source": [
    "## Product Bundling"
   ]
  },
  {
   "cell_type": "markdown",
   "id": "8b9a89d5",
   "metadata": {},
   "source": [
    "![Example Product Bundle. Credits: Burger King](https://cxl.com/wp-content/uploads/2018/10/burger-king-bundle.png)"
   ]
  },
  {
   "cell_type": "markdown",
   "id": "da2ef879",
   "metadata": {},
   "source": [
    "<p style = 'text-align: center;'>Image Credits: Burger King</p>"
   ]
  },
  {
   "cell_type": "markdown",
   "id": "88f71c6c",
   "metadata": {},
   "source": [
    "Product bundling refers to grouping products or services together for sale as one package, as illustrated in the image above."
   ]
  },
  {
   "cell_type": "markdown",
   "id": "902cba52",
   "metadata": {},
   "source": [
    "## References"
   ]
  },
  {
   "cell_type": "markdown",
   "id": "16b5d58d",
   "metadata": {},
   "source": [
    "- [Apriori Algorithm in Machine Learning](https://www.javatpoint.com/apriori-algorithm-in-machine-learning)\n",
    "- [Implement FP Growth Algorithm in Python](https://codinginfinite.com/implement-fp-growth-algorithm-in-python/)\n",
    "- [Introduction to Apriori Algorithm in Python](https://intellipaat.com/blog/data-science-apriori-algorithm/)\n",
    "- [Product Sales Analysis Using Python](https://medium.com/swlh/product-sales-analysis-using-python-863b29026957)"
   ]
  },
  {
   "cell_type": "code",
   "execution_count": null,
   "id": "a3782b58",
   "metadata": {},
   "outputs": [],
   "source": []
  }
 ],
 "metadata": {
  "kernelspec": {
   "display_name": "Python 3 (ipykernel)",
   "language": "python",
   "name": "python3"
  },
  "language_info": {
   "codemirror_mode": {
    "name": "ipython",
    "version": 3
   },
   "file_extension": ".py",
   "mimetype": "text/x-python",
   "name": "python",
   "nbconvert_exporter": "python",
   "pygments_lexer": "ipython3",
   "version": "3.9.12"
  }
 },
 "nbformat": 4,
 "nbformat_minor": 5
}
