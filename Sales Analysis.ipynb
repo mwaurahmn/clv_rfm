{
 "cells": [
  {
   "cell_type": "markdown",
   "id": "0f7fde36",
   "metadata": {},
   "source": [
    "# Exploratory Data Analysis"
   ]
  },
  {
   "cell_type": "markdown",
   "id": "80a7de04",
   "metadata": {},
   "source": [
    "After cleaning the data, it is important to get a deep understanding of the data, exploring any trends or patterns that exist in the data."
   ]
  },
  {
   "cell_type": "markdown",
   "id": "b24771f9",
   "metadata": {},
   "source": [
    "## Import Packages"
   ]
  },
  {
   "cell_type": "code",
   "execution_count": 9,
   "id": "b996c5fa",
   "metadata": {},
   "outputs": [],
   "source": [
    "# Module containing all dependencies used\n",
    "import src.dependencies as dep\n",
    "\n",
    "# Module containing custom functions\n",
    "import src.functions as fn"
   ]
  },
  {
   "cell_type": "markdown",
   "id": "1647e4be",
   "metadata": {},
   "source": [
    "## Load the dataset"
   ]
  },
  {
   "cell_type": "markdown",
   "id": "efcf258e",
   "metadata": {},
   "source": [
    "The dataset is the transformed version obtained from [UC Irvine Machine Learning Repository](https://archive.ics.uci.edu/dataset/502/online+retail+ii)"
   ]
  },
  {
   "cell_type": "code",
   "execution_count": 10,
   "id": "8089a6e2",
   "metadata": {},
   "outputs": [
    {
     "data": {
      "text/html": [
       "<div>\n",
       "<style scoped>\n",
       "    .dataframe tbody tr th:only-of-type {\n",
       "        vertical-align: middle;\n",
       "    }\n",
       "\n",
       "    .dataframe tbody tr th {\n",
       "        vertical-align: top;\n",
       "    }\n",
       "\n",
       "    .dataframe thead th {\n",
       "        text-align: right;\n",
       "    }\n",
       "</style>\n",
       "<table border=\"1\" class=\"dataframe\">\n",
       "  <thead>\n",
       "    <tr style=\"text-align: right;\">\n",
       "      <th></th>\n",
       "      <th>Invoice</th>\n",
       "      <th>StockCode</th>\n",
       "      <th>Description</th>\n",
       "      <th>Quantity</th>\n",
       "      <th>InvoiceDate</th>\n",
       "      <th>Price</th>\n",
       "      <th>Customer ID</th>\n",
       "      <th>Country</th>\n",
       "    </tr>\n",
       "  </thead>\n",
       "  <tbody>\n",
       "    <tr>\n",
       "      <th>0</th>\n",
       "      <td>489434</td>\n",
       "      <td>85048</td>\n",
       "      <td>15CM CHRISTMAS GLASS BALL 20 LIGHTS</td>\n",
       "      <td>12</td>\n",
       "      <td>2009-12-01 07:45:00</td>\n",
       "      <td>6.95</td>\n",
       "      <td>13085</td>\n",
       "      <td>United Kingdom</td>\n",
       "    </tr>\n",
       "    <tr>\n",
       "      <th>1</th>\n",
       "      <td>489434</td>\n",
       "      <td>79323P</td>\n",
       "      <td>PINK CHERRY LIGHTS</td>\n",
       "      <td>12</td>\n",
       "      <td>2009-12-01 07:45:00</td>\n",
       "      <td>6.75</td>\n",
       "      <td>13085</td>\n",
       "      <td>United Kingdom</td>\n",
       "    </tr>\n",
       "    <tr>\n",
       "      <th>2</th>\n",
       "      <td>489434</td>\n",
       "      <td>79323W</td>\n",
       "      <td>WHITE CHERRY LIGHTS</td>\n",
       "      <td>12</td>\n",
       "      <td>2009-12-01 07:45:00</td>\n",
       "      <td>6.75</td>\n",
       "      <td>13085</td>\n",
       "      <td>United Kingdom</td>\n",
       "    </tr>\n",
       "    <tr>\n",
       "      <th>3</th>\n",
       "      <td>489434</td>\n",
       "      <td>22041</td>\n",
       "      <td>RECORD FRAME 7\" SINGLE SIZE</td>\n",
       "      <td>48</td>\n",
       "      <td>2009-12-01 07:45:00</td>\n",
       "      <td>2.10</td>\n",
       "      <td>13085</td>\n",
       "      <td>United Kingdom</td>\n",
       "    </tr>\n",
       "    <tr>\n",
       "      <th>4</th>\n",
       "      <td>489434</td>\n",
       "      <td>21232</td>\n",
       "      <td>STRAWBERRY CERAMIC TRINKET BOX</td>\n",
       "      <td>24</td>\n",
       "      <td>2009-12-01 07:45:00</td>\n",
       "      <td>1.25</td>\n",
       "      <td>13085</td>\n",
       "      <td>United Kingdom</td>\n",
       "    </tr>\n",
       "  </tbody>\n",
       "</table>\n",
       "</div>"
      ],
      "text/plain": [
       "   Invoice StockCode                          Description  Quantity  \\\n",
       "0   489434     85048  15CM CHRISTMAS GLASS BALL 20 LIGHTS        12   \n",
       "1   489434    79323P                   PINK CHERRY LIGHTS        12   \n",
       "2   489434    79323W                  WHITE CHERRY LIGHTS        12   \n",
       "3   489434     22041         RECORD FRAME 7\" SINGLE SIZE         48   \n",
       "4   489434     21232       STRAWBERRY CERAMIC TRINKET BOX        24   \n",
       "\n",
       "           InvoiceDate  Price  Customer ID         Country  \n",
       "0  2009-12-01 07:45:00   6.95        13085  United Kingdom  \n",
       "1  2009-12-01 07:45:00   6.75        13085  United Kingdom  \n",
       "2  2009-12-01 07:45:00   6.75        13085  United Kingdom  \n",
       "3  2009-12-01 07:45:00   2.10        13085  United Kingdom  \n",
       "4  2009-12-01 07:45:00   1.25        13085  United Kingdom  "
      ]
     },
     "execution_count": 10,
     "metadata": {},
     "output_type": "execute_result"
    }
   ],
   "source": [
    "# Load data\n",
    "df = dep.pd.read_csv('dataset/Transformed.csv')\n",
    "\n",
    "# Confirm successful loading\n",
    "df.head()"
   ]
  },
  {
   "cell_type": "markdown",
   "id": "56b3b182",
   "metadata": {},
   "source": [
    "## Univariate Analysis"
   ]
  },
  {
   "cell_type": "markdown",
   "id": "f4510b24",
   "metadata": {},
   "source": [
    "Each variable will be investigated singularly to draw more insights from the data."
   ]
  },
  {
   "cell_type": "markdown",
   "id": "f9cb9f13",
   "metadata": {},
   "source": [
    "### Invoice"
   ]
  },
  {
   "cell_type": "markdown",
   "id": "6bdbf70f",
   "metadata": {},
   "source": [
    "**Guiding Question:** _How many invoices were raised in the given time period?_\n",
    "\n",
    "To answer this question, count all unique invoice numbers."
   ]
  },
  {
   "cell_type": "code",
   "execution_count": 11,
   "id": "9c611386",
   "metadata": {},
   "outputs": [
    {
     "name": "stdout",
     "output_type": "stream",
     "text": [
      "There were 44,876 invoices generated in the given time period\n"
     ]
    }
   ],
   "source": [
    "# Count invoices\n",
    "invoices = len(list(df['Invoice'].value_counts())) # value_counts records each unique entry and respective count\n",
    "print('There were {:,} invoices generated in the given time period'.format(invoices))"
   ]
  },
  {
   "cell_type": "markdown",
   "id": "06fc71d9",
   "metadata": {},
   "source": [
    "### Products"
   ]
  },
  {
   "cell_type": "markdown",
   "id": "cdbebaf7",
   "metadata": {},
   "source": [
    "**Guiding Question:** _How many unique items were sold in the given time period?_\n",
    "\n",
    "Count all the unique products using the `StockCode` as the identifier."
   ]
  },
  {
   "cell_type": "code",
   "execution_count": 12,
   "id": "1163a3c3",
   "metadata": {},
   "outputs": [
    {
     "name": "stdout",
     "output_type": "stream",
     "text": [
      "A total of 4,646 unique products were sold\n"
     ]
    }
   ],
   "source": [
    "# Count products\n",
    "products = len(list(df['StockCode'].value_counts()))\n",
    "print('A total of {:,} unique products were sold'.format(products))"
   ]
  },
  {
   "cell_type": "markdown",
   "id": "a017de63",
   "metadata": {},
   "source": [
    "**Guiding Question:** _What was the volume of sales in the time period under study?_\n",
    "\n",
    "The sales volume refers to the total number of product units sold in the given time period."
   ]
  },
  {
   "cell_type": "code",
   "execution_count": 13,
   "id": "1e4f1807",
   "metadata": {},
   "outputs": [
    {
     "name": "stdout",
     "output_type": "stream",
     "text": [
      "The volume of sales in the given time period is 10,055,729\n"
     ]
    }
   ],
   "source": [
    "# Sales volume\n",
    "sales_volume = df['Quantity'].sum()\n",
    "print('The volume of sales in the given time period is {:,}'.format(sales_volume))"
   ]
  },
  {
   "cell_type": "markdown",
   "id": "765e0a9d",
   "metadata": {},
   "source": [
    "### Time Period"
   ]
  },
  {
   "cell_type": "markdown",
   "id": "5f75bf0e",
   "metadata": {},
   "source": [
    "**Guiding Question:** _What is the time frame of the data under study?_\n",
    "\n",
    "Get the date range from the `InvoiceDate` column."
   ]
  },
  {
   "cell_type": "code",
   "execution_count": 14,
   "id": "3643e962",
   "metadata": {},
   "outputs": [
    {
     "name": "stdout",
     "output_type": "stream",
     "text": [
      "The data ranges from 2009-12-01 to 2011-12-09\n"
     ]
    }
   ],
   "source": [
    "# Ensure the invoice date is of date_time format\n",
    "df['InvoiceDate'] = dep.pd.to_datetime(df['InvoiceDate'])\n",
    "\n",
    "# Date range\n",
    "date_from = str(df['InvoiceDate'].dt.date.min())\n",
    "date_to = str(df['InvoiceDate'].dt.date.max())\n",
    "print('The data ranges from {} to {}'.format(date_from, date_to))"
   ]
  },
  {
   "cell_type": "markdown",
   "id": "dba49113",
   "metadata": {},
   "source": [
    "### Price"
   ]
  },
  {
   "cell_type": "markdown",
   "id": "6f62b54d",
   "metadata": {},
   "source": [
    "**Guiding Questions:** _How do the prices vary?_\n",
    "\n",
    "Look at the distribution of prices."
   ]
  },
  {
   "cell_type": "code",
   "execution_count": 15,
   "id": "58cc4474",
   "metadata": {},
   "outputs": [
    {
     "data": {
      "text/html": [
       "<div>\n",
       "<style scoped>\n",
       "    .dataframe tbody tr th:only-of-type {\n",
       "        vertical-align: middle;\n",
       "    }\n",
       "\n",
       "    .dataframe tbody tr th {\n",
       "        vertical-align: top;\n",
       "    }\n",
       "\n",
       "    .dataframe thead th {\n",
       "        text-align: right;\n",
       "    }\n",
       "</style>\n",
       "<table border=\"1\" class=\"dataframe\">\n",
       "  <thead>\n",
       "    <tr style=\"text-align: right;\">\n",
       "      <th></th>\n",
       "      <th>Price</th>\n",
       "    </tr>\n",
       "  </thead>\n",
       "  <tbody>\n",
       "    <tr>\n",
       "      <th>count</th>\n",
       "      <td>797885.000000</td>\n",
       "    </tr>\n",
       "    <tr>\n",
       "      <th>mean</th>\n",
       "      <td>3.702732</td>\n",
       "    </tr>\n",
       "    <tr>\n",
       "      <th>std</th>\n",
       "      <td>71.392549</td>\n",
       "    </tr>\n",
       "    <tr>\n",
       "      <th>min</th>\n",
       "      <td>0.000000</td>\n",
       "    </tr>\n",
       "    <tr>\n",
       "      <th>25%</th>\n",
       "      <td>1.250000</td>\n",
       "    </tr>\n",
       "    <tr>\n",
       "      <th>50%</th>\n",
       "      <td>1.950000</td>\n",
       "    </tr>\n",
       "    <tr>\n",
       "      <th>75%</th>\n",
       "      <td>3.750000</td>\n",
       "    </tr>\n",
       "    <tr>\n",
       "      <th>max</th>\n",
       "      <td>38970.000000</td>\n",
       "    </tr>\n",
       "  </tbody>\n",
       "</table>\n",
       "</div>"
      ],
      "text/plain": [
       "               Price\n",
       "count  797885.000000\n",
       "mean        3.702732\n",
       "std        71.392549\n",
       "min         0.000000\n",
       "25%         1.250000\n",
       "50%         1.950000\n",
       "75%         3.750000\n",
       "max     38970.000000"
      ]
     },
     "execution_count": 15,
     "metadata": {},
     "output_type": "execute_result"
    }
   ],
   "source": [
    "# Number summary\n",
    "df[['Price']].describe()"
   ]
  },
  {
   "cell_type": "markdown",
   "id": "98845872",
   "metadata": {},
   "source": [
    "Over 75% of the products are priced between _0_ and _3.75_. However, there is a product that has been priced as high as _38,970_."
   ]
  },
  {
   "cell_type": "markdown",
   "id": "51aa8c7c",
   "metadata": {},
   "source": [
    "### Customers"
   ]
  },
  {
   "cell_type": "markdown",
   "id": "19fa6a78",
   "metadata": {},
   "source": [
    "**Guiding Question:** _How many customers did we serve in the given time period?_\n",
    "\n",
    "Count the number of customers."
   ]
  },
  {
   "cell_type": "code",
   "execution_count": 16,
   "id": "9979bb22",
   "metadata": {},
   "outputs": [
    {
     "name": "stdout",
     "output_type": "stream",
     "text": [
      "A total of 5,942 customers were served\n"
     ]
    }
   ],
   "source": [
    "# Customers count\n",
    "customers = len(list(df['Customer ID'].value_counts()))\n",
    "print('A total of {:,} customers were served'.format(customers))"
   ]
  },
  {
   "cell_type": "markdown",
   "id": "359b405b",
   "metadata": {},
   "source": [
    "### Countries"
   ]
  },
  {
   "cell_type": "markdown",
   "id": "a11625b8",
   "metadata": {},
   "source": [
    "**Guiding Question:** _How many countries did we reach?_\n",
    "\n",
    "Count the number of listed countries."
   ]
  },
  {
   "cell_type": "code",
   "execution_count": 17,
   "id": "d837ef0f",
   "metadata": {},
   "outputs": [
    {
     "name": "stdout",
     "output_type": "stream",
     "text": [
      "A total of 41 countries were reached\n"
     ]
    }
   ],
   "source": [
    "# Countries count\n",
    "countries = len(list(df['Country'].value_counts()))\n",
    "print('A total of {:,} countries were reached'.format(countries))"
   ]
  },
  {
   "cell_type": "code",
   "execution_count": null,
   "id": "f15457f7",
   "metadata": {},
   "outputs": [],
   "source": []
  }
 ],
 "metadata": {
  "kernelspec": {
   "display_name": "Python 3 (ipykernel)",
   "language": "python",
   "name": "python3"
  },
  "language_info": {
   "codemirror_mode": {
    "name": "ipython",
    "version": 3
   },
   "file_extension": ".py",
   "mimetype": "text/x-python",
   "name": "python",
   "nbconvert_exporter": "python",
   "pygments_lexer": "ipython3",
   "version": "3.9.12"
  }
 },
 "nbformat": 4,
 "nbformat_minor": 5
}
