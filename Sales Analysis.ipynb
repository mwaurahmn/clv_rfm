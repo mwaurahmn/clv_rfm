{
 "cells": [
  {
   "cell_type": "markdown",
   "id": "0f7fde36",
   "metadata": {},
   "source": [
    "# Exploratory Data Analysis"
   ]
  },
  {
   "cell_type": "markdown",
   "id": "80a7de04",
   "metadata": {},
   "source": [
    "After cleaning the data, it is important to get a deep understanding of the data, exploring any trends or patterns that exist in the data."
   ]
  },
  {
   "cell_type": "markdown",
   "id": "b24771f9",
   "metadata": {},
   "source": [
    "## Import Packages"
   ]
  },
  {
   "cell_type": "code",
   "execution_count": 1,
   "id": "b996c5fa",
   "metadata": {},
   "outputs": [],
   "source": [
    "# Module containing all dependencies used\n",
    "import src.dependencies as dep\n",
    "\n",
    "# Module containing custom functions\n",
    "import src.functions as fn"
   ]
  },
  {
   "cell_type": "markdown",
   "id": "1647e4be",
   "metadata": {},
   "source": [
    "## Load the dataset"
   ]
  },
  {
   "cell_type": "markdown",
   "id": "efcf258e",
   "metadata": {},
   "source": [
    "The dataset is the transformed version obtained from [UC Irvine Machine Learning Repository](https://archive.ics.uci.edu/dataset/502/online+retail+ii)"
   ]
  },
  {
   "cell_type": "code",
   "execution_count": 2,
   "id": "8089a6e2",
   "metadata": {},
   "outputs": [
    {
     "data": {
      "text/html": [
       "<div>\n",
       "<style scoped>\n",
       "    .dataframe tbody tr th:only-of-type {\n",
       "        vertical-align: middle;\n",
       "    }\n",
       "\n",
       "    .dataframe tbody tr th {\n",
       "        vertical-align: top;\n",
       "    }\n",
       "\n",
       "    .dataframe thead th {\n",
       "        text-align: right;\n",
       "    }\n",
       "</style>\n",
       "<table border=\"1\" class=\"dataframe\">\n",
       "  <thead>\n",
       "    <tr style=\"text-align: right;\">\n",
       "      <th></th>\n",
       "      <th>Invoice</th>\n",
       "      <th>StockCode</th>\n",
       "      <th>Description</th>\n",
       "      <th>Quantity</th>\n",
       "      <th>InvoiceDate</th>\n",
       "      <th>Price</th>\n",
       "      <th>Customer ID</th>\n",
       "      <th>Country</th>\n",
       "    </tr>\n",
       "  </thead>\n",
       "  <tbody>\n",
       "    <tr>\n",
       "      <th>0</th>\n",
       "      <td>489434</td>\n",
       "      <td>85048</td>\n",
       "      <td>15CM CHRISTMAS GLASS BALL 20 LIGHTS</td>\n",
       "      <td>12</td>\n",
       "      <td>2009-12-01 07:45:00</td>\n",
       "      <td>6.95</td>\n",
       "      <td>13085</td>\n",
       "      <td>United Kingdom</td>\n",
       "    </tr>\n",
       "    <tr>\n",
       "      <th>1</th>\n",
       "      <td>489434</td>\n",
       "      <td>79323P</td>\n",
       "      <td>PINK CHERRY LIGHTS</td>\n",
       "      <td>12</td>\n",
       "      <td>2009-12-01 07:45:00</td>\n",
       "      <td>6.75</td>\n",
       "      <td>13085</td>\n",
       "      <td>United Kingdom</td>\n",
       "    </tr>\n",
       "    <tr>\n",
       "      <th>2</th>\n",
       "      <td>489434</td>\n",
       "      <td>79323W</td>\n",
       "      <td>WHITE CHERRY LIGHTS</td>\n",
       "      <td>12</td>\n",
       "      <td>2009-12-01 07:45:00</td>\n",
       "      <td>6.75</td>\n",
       "      <td>13085</td>\n",
       "      <td>United Kingdom</td>\n",
       "    </tr>\n",
       "    <tr>\n",
       "      <th>3</th>\n",
       "      <td>489434</td>\n",
       "      <td>22041</td>\n",
       "      <td>RECORD FRAME 7\" SINGLE SIZE</td>\n",
       "      <td>48</td>\n",
       "      <td>2009-12-01 07:45:00</td>\n",
       "      <td>2.10</td>\n",
       "      <td>13085</td>\n",
       "      <td>United Kingdom</td>\n",
       "    </tr>\n",
       "    <tr>\n",
       "      <th>4</th>\n",
       "      <td>489434</td>\n",
       "      <td>21232</td>\n",
       "      <td>STRAWBERRY CERAMIC TRINKET BOX</td>\n",
       "      <td>24</td>\n",
       "      <td>2009-12-01 07:45:00</td>\n",
       "      <td>1.25</td>\n",
       "      <td>13085</td>\n",
       "      <td>United Kingdom</td>\n",
       "    </tr>\n",
       "  </tbody>\n",
       "</table>\n",
       "</div>"
      ],
      "text/plain": [
       "   Invoice StockCode                          Description  Quantity  \\\n",
       "0   489434     85048  15CM CHRISTMAS GLASS BALL 20 LIGHTS        12   \n",
       "1   489434    79323P                   PINK CHERRY LIGHTS        12   \n",
       "2   489434    79323W                  WHITE CHERRY LIGHTS        12   \n",
       "3   489434     22041         RECORD FRAME 7\" SINGLE SIZE         48   \n",
       "4   489434     21232       STRAWBERRY CERAMIC TRINKET BOX        24   \n",
       "\n",
       "           InvoiceDate  Price  Customer ID         Country  \n",
       "0  2009-12-01 07:45:00   6.95        13085  United Kingdom  \n",
       "1  2009-12-01 07:45:00   6.75        13085  United Kingdom  \n",
       "2  2009-12-01 07:45:00   6.75        13085  United Kingdom  \n",
       "3  2009-12-01 07:45:00   2.10        13085  United Kingdom  \n",
       "4  2009-12-01 07:45:00   1.25        13085  United Kingdom  "
      ]
     },
     "execution_count": 2,
     "metadata": {},
     "output_type": "execute_result"
    }
   ],
   "source": [
    "# Load data\n",
    "df = dep.pd.read_csv('dataset/Transformed.csv')\n",
    "\n",
    "# Confirm successful loading\n",
    "df.head()"
   ]
  },
  {
   "cell_type": "markdown",
   "id": "56b3b182",
   "metadata": {},
   "source": [
    "## Univariate Analysis"
   ]
  },
  {
   "cell_type": "markdown",
   "id": "f4510b24",
   "metadata": {},
   "source": [
    "Each variable will be investigated singularly to draw more insights from the data."
   ]
  },
  {
   "cell_type": "markdown",
   "id": "f9cb9f13",
   "metadata": {},
   "source": [
    "### Invoice"
   ]
  },
  {
   "cell_type": "markdown",
   "id": "6bdbf70f",
   "metadata": {},
   "source": [
    "**Guiding Question:** _How many invoices were raised in the given time period?_\n",
    "\n",
    "To answer this question, count all unique invoice numbers."
   ]
  },
  {
   "cell_type": "code",
   "execution_count": 3,
   "id": "9c611386",
   "metadata": {},
   "outputs": [
    {
     "name": "stdout",
     "output_type": "stream",
     "text": [
      "There were 44,876 invoices generated in the given time period\n"
     ]
    }
   ],
   "source": [
    "# Count invoices\n",
    "invoices = len(list(df['Invoice'].value_counts())) # value_counts records each unique entry and respective count\n",
    "print('There were {:,} invoices generated in the given time period'.format(invoices))"
   ]
  },
  {
   "cell_type": "markdown",
   "id": "06fc71d9",
   "metadata": {},
   "source": [
    "### Products"
   ]
  },
  {
   "cell_type": "markdown",
   "id": "68094af2",
   "metadata": {},
   "source": [
    "**Guiding Question:** _How many unique items were sold in the given time period?_\n",
    "\n",
    "Count all the unique products using the `StockCode` as the identifier."
   ]
  },
  {
   "cell_type": "code",
   "execution_count": 4,
   "id": "e8f3130b",
   "metadata": {},
   "outputs": [
    {
     "name": "stdout",
     "output_type": "stream",
     "text": [
      "A total of 4,646 unique products were sold\n"
     ]
    }
   ],
   "source": [
    "# Count products\n",
    "products = len(list(df['StockCode'].value_counts()))\n",
    "print('A total of {:,} unique products were sold'.format(products))"
   ]
  },
  {
   "cell_type": "markdown",
   "id": "a017de63",
   "metadata": {},
   "source": [
    "**Guiding Question:** _What was the volume of sales in the time period under study?_\n",
    "\n",
    "The sales volume refers to the total number of product units sold in the given time period."
   ]
  },
  {
   "cell_type": "code",
   "execution_count": 5,
   "id": "1e4f1807",
   "metadata": {},
   "outputs": [
    {
     "name": "stdout",
     "output_type": "stream",
     "text": [
      "The volume of sales in the given time period is 10,055,729\n"
     ]
    }
   ],
   "source": [
    "# Sales volume\n",
    "sales_volume = df['Quantity'].sum()\n",
    "print('The volume of sales in the given time period is {:,}'.format(sales_volume))"
   ]
  },
  {
   "cell_type": "markdown",
   "id": "4f89dcb4",
   "metadata": {},
   "source": [
    "### Time Period"
   ]
  },
  {
   "cell_type": "markdown",
   "id": "56d6b437",
   "metadata": {},
   "source": [
    "**Guiding Question:** _What is the time frame of the data under study?_\n",
    "\n",
    "Get the date range from the `InvoiceDate` column."
   ]
  },
  {
   "cell_type": "code",
   "execution_count": 6,
   "id": "6db72466",
   "metadata": {},
   "outputs": [
    {
     "name": "stdout",
     "output_type": "stream",
     "text": [
      "The data ranges from 2009-12-01 to 2011-12-09\n"
     ]
    }
   ],
   "source": [
    "# Ensure the invoice date is of date_time format\n",
    "df['InvoiceDate'] = dep.pd.to_datetime(df['InvoiceDate'])\n",
    "\n",
    "# Date range\n",
    "date_from = str(df['InvoiceDate'].dt.date.min())\n",
    "date_to = str(df['InvoiceDate'].dt.date.max())\n",
    "print('The data ranges from {} to {}'.format(date_from, date_to))"
   ]
  },
  {
   "cell_type": "markdown",
   "id": "1232a2e4",
   "metadata": {},
   "source": [
    "### Price"
   ]
  },
  {
   "cell_type": "markdown",
   "id": "0a5bffaa",
   "metadata": {},
   "source": [
    "**Guiding Questions:** _How do the prices vary?_\n",
    "\n",
    "Look at the distribution of prices."
   ]
  },
  {
   "cell_type": "code",
   "execution_count": 7,
   "id": "fd938151",
   "metadata": {},
   "outputs": [
    {
     "data": {
      "text/html": [
       "<div>\n",
       "<style scoped>\n",
       "    .dataframe tbody tr th:only-of-type {\n",
       "        vertical-align: middle;\n",
       "    }\n",
       "\n",
       "    .dataframe tbody tr th {\n",
       "        vertical-align: top;\n",
       "    }\n",
       "\n",
       "    .dataframe thead th {\n",
       "        text-align: right;\n",
       "    }\n",
       "</style>\n",
       "<table border=\"1\" class=\"dataframe\">\n",
       "  <thead>\n",
       "    <tr style=\"text-align: right;\">\n",
       "      <th></th>\n",
       "      <th>Price</th>\n",
       "    </tr>\n",
       "  </thead>\n",
       "  <tbody>\n",
       "    <tr>\n",
       "      <th>count</th>\n",
       "      <td>797885.000000</td>\n",
       "    </tr>\n",
       "    <tr>\n",
       "      <th>mean</th>\n",
       "      <td>3.702732</td>\n",
       "    </tr>\n",
       "    <tr>\n",
       "      <th>std</th>\n",
       "      <td>71.392549</td>\n",
       "    </tr>\n",
       "    <tr>\n",
       "      <th>min</th>\n",
       "      <td>0.000000</td>\n",
       "    </tr>\n",
       "    <tr>\n",
       "      <th>25%</th>\n",
       "      <td>1.250000</td>\n",
       "    </tr>\n",
       "    <tr>\n",
       "      <th>50%</th>\n",
       "      <td>1.950000</td>\n",
       "    </tr>\n",
       "    <tr>\n",
       "      <th>75%</th>\n",
       "      <td>3.750000</td>\n",
       "    </tr>\n",
       "    <tr>\n",
       "      <th>max</th>\n",
       "      <td>38970.000000</td>\n",
       "    </tr>\n",
       "  </tbody>\n",
       "</table>\n",
       "</div>"
      ],
      "text/plain": [
       "               Price\n",
       "count  797885.000000\n",
       "mean        3.702732\n",
       "std        71.392549\n",
       "min         0.000000\n",
       "25%         1.250000\n",
       "50%         1.950000\n",
       "75%         3.750000\n",
       "max     38970.000000"
      ]
     },
     "execution_count": 7,
     "metadata": {},
     "output_type": "execute_result"
    }
   ],
   "source": [
    "# Number summary\n",
    "df[['Price']].describe()"
   ]
  },
  {
   "cell_type": "markdown",
   "id": "64d8c751",
   "metadata": {},
   "source": [
    "Over 75% of the products are priced between _0_ and _3.75_. However, there is a product that has been priced as high as _38,970_."
   ]
  },
  {
   "cell_type": "markdown",
   "id": "022bd8e1",
   "metadata": {},
   "source": [
    "### Customers"
   ]
  },
  {
   "cell_type": "markdown",
   "id": "2717b5c2",
   "metadata": {},
   "source": [
    "**Guiding Question:** _How many customers did we serve in the given time period?_\n",
    "\n",
    "Count the number of customers."
   ]
  },
  {
   "cell_type": "code",
   "execution_count": 8,
   "id": "33397d3c",
   "metadata": {},
   "outputs": [
    {
     "name": "stdout",
     "output_type": "stream",
     "text": [
      "A total of 5,942 customers were served\n"
     ]
    }
   ],
   "source": [
    "# Customers count\n",
    "customers = len(list(df['Customer ID'].value_counts()))\n",
    "print('A total of {:,} customers were served'.format(customers))"
   ]
  },
  {
   "cell_type": "markdown",
   "id": "7b45ce81",
   "metadata": {},
   "source": [
    "### Countries"
   ]
  },
  {
   "cell_type": "markdown",
   "id": "cdb25f7b",
   "metadata": {},
   "source": [
    "**Guiding Question:** _How many countries did we reach?_\n",
    "\n",
    "Count the number of listed countries."
   ]
  },
  {
   "cell_type": "code",
   "execution_count": 9,
   "id": "79df8eca",
   "metadata": {},
   "outputs": [
    {
     "name": "stdout",
     "output_type": "stream",
     "text": [
      "A total of 41 countries were reached\n"
     ]
    }
   ],
   "source": [
    "# Countries count\n",
    "countries = len(list(df['Country'].value_counts()))\n",
    "print('A total of {:,} countries were reached'.format(countries))"
   ]
  },
  {
   "cell_type": "markdown",
   "id": "0d3e698a",
   "metadata": {},
   "source": [
    "## Multivariate Analysis"
   ]
  },
  {
   "cell_type": "markdown",
   "id": "c4cdb808",
   "metadata": {},
   "source": [
    "### Sales Distribution"
   ]
  },
  {
   "cell_type": "markdown",
   "id": "07f1e19a",
   "metadata": {},
   "source": [
    "In order to study the pattern of sales in the sales generated between 2009 and 2011, the first step is creating a `Revenue` column which is a product of `Quantity` and `Price`."
   ]
  },
  {
   "cell_type": "code",
   "execution_count": 10,
   "id": "1465974c",
   "metadata": {},
   "outputs": [
    {
     "data": {
      "text/html": [
       "<div>\n",
       "<style scoped>\n",
       "    .dataframe tbody tr th:only-of-type {\n",
       "        vertical-align: middle;\n",
       "    }\n",
       "\n",
       "    .dataframe tbody tr th {\n",
       "        vertical-align: top;\n",
       "    }\n",
       "\n",
       "    .dataframe thead th {\n",
       "        text-align: right;\n",
       "    }\n",
       "</style>\n",
       "<table border=\"1\" class=\"dataframe\">\n",
       "  <thead>\n",
       "    <tr style=\"text-align: right;\">\n",
       "      <th></th>\n",
       "      <th>Invoice</th>\n",
       "      <th>StockCode</th>\n",
       "      <th>Description</th>\n",
       "      <th>Quantity</th>\n",
       "      <th>InvoiceDate</th>\n",
       "      <th>Price</th>\n",
       "      <th>Customer ID</th>\n",
       "      <th>Country</th>\n",
       "      <th>Revenue</th>\n",
       "    </tr>\n",
       "  </thead>\n",
       "  <tbody>\n",
       "    <tr>\n",
       "      <th>0</th>\n",
       "      <td>489434</td>\n",
       "      <td>85048</td>\n",
       "      <td>15CM CHRISTMAS GLASS BALL 20 LIGHTS</td>\n",
       "      <td>12</td>\n",
       "      <td>2009-12-01 07:45:00</td>\n",
       "      <td>6.95</td>\n",
       "      <td>13085</td>\n",
       "      <td>United Kingdom</td>\n",
       "      <td>83.4</td>\n",
       "    </tr>\n",
       "    <tr>\n",
       "      <th>1</th>\n",
       "      <td>489434</td>\n",
       "      <td>79323P</td>\n",
       "      <td>PINK CHERRY LIGHTS</td>\n",
       "      <td>12</td>\n",
       "      <td>2009-12-01 07:45:00</td>\n",
       "      <td>6.75</td>\n",
       "      <td>13085</td>\n",
       "      <td>United Kingdom</td>\n",
       "      <td>81.0</td>\n",
       "    </tr>\n",
       "    <tr>\n",
       "      <th>2</th>\n",
       "      <td>489434</td>\n",
       "      <td>79323W</td>\n",
       "      <td>WHITE CHERRY LIGHTS</td>\n",
       "      <td>12</td>\n",
       "      <td>2009-12-01 07:45:00</td>\n",
       "      <td>6.75</td>\n",
       "      <td>13085</td>\n",
       "      <td>United Kingdom</td>\n",
       "      <td>81.0</td>\n",
       "    </tr>\n",
       "  </tbody>\n",
       "</table>\n",
       "</div>"
      ],
      "text/plain": [
       "   Invoice StockCode                          Description  Quantity  \\\n",
       "0   489434     85048  15CM CHRISTMAS GLASS BALL 20 LIGHTS        12   \n",
       "1   489434    79323P                   PINK CHERRY LIGHTS        12   \n",
       "2   489434    79323W                  WHITE CHERRY LIGHTS        12   \n",
       "\n",
       "          InvoiceDate  Price  Customer ID         Country  Revenue  \n",
       "0 2009-12-01 07:45:00   6.95        13085  United Kingdom     83.4  \n",
       "1 2009-12-01 07:45:00   6.75        13085  United Kingdom     81.0  \n",
       "2 2009-12-01 07:45:00   6.75        13085  United Kingdom     81.0  "
      ]
     },
     "execution_count": 10,
     "metadata": {},
     "output_type": "execute_result"
    }
   ],
   "source": [
    "# Revenue\n",
    "df['Revenue'] = df['Quantity'] * df['Price']\n",
    "\n",
    "# View sample data\n",
    "df.head(3)"
   ]
  },
  {
   "cell_type": "markdown",
   "id": "941f22b0",
   "metadata": {},
   "source": [
    "To facilitate the analysis, get the respective invoices total."
   ]
  },
  {
   "cell_type": "code",
   "execution_count": 11,
   "id": "81277919",
   "metadata": {},
   "outputs": [
    {
     "data": {
      "text/html": [
       "<div>\n",
       "<style scoped>\n",
       "    .dataframe tbody tr th:only-of-type {\n",
       "        vertical-align: middle;\n",
       "    }\n",
       "\n",
       "    .dataframe tbody tr th {\n",
       "        vertical-align: top;\n",
       "    }\n",
       "\n",
       "    .dataframe thead th {\n",
       "        text-align: right;\n",
       "    }\n",
       "</style>\n",
       "<table border=\"1\" class=\"dataframe\">\n",
       "  <thead>\n",
       "    <tr style=\"text-align: right;\">\n",
       "      <th></th>\n",
       "      <th>InvoiceDate</th>\n",
       "      <th>Invoice</th>\n",
       "      <th>Revenue</th>\n",
       "    </tr>\n",
       "  </thead>\n",
       "  <tbody>\n",
       "    <tr>\n",
       "      <th>0</th>\n",
       "      <td>2009-12-01 07:45:00</td>\n",
       "      <td>489434</td>\n",
       "      <td>505.30</td>\n",
       "    </tr>\n",
       "    <tr>\n",
       "      <th>1</th>\n",
       "      <td>2009-12-01 07:46:00</td>\n",
       "      <td>489435</td>\n",
       "      <td>145.80</td>\n",
       "    </tr>\n",
       "    <tr>\n",
       "      <th>2</th>\n",
       "      <td>2009-12-01 09:06:00</td>\n",
       "      <td>489436</td>\n",
       "      <td>630.33</td>\n",
       "    </tr>\n",
       "    <tr>\n",
       "      <th>3</th>\n",
       "      <td>2009-12-01 09:08:00</td>\n",
       "      <td>489437</td>\n",
       "      <td>310.75</td>\n",
       "    </tr>\n",
       "    <tr>\n",
       "      <th>4</th>\n",
       "      <td>2009-12-01 09:24:00</td>\n",
       "      <td>489438</td>\n",
       "      <td>2286.24</td>\n",
       "    </tr>\n",
       "  </tbody>\n",
       "</table>\n",
       "</div>"
      ],
      "text/plain": [
       "          InvoiceDate  Invoice  Revenue\n",
       "0 2009-12-01 07:45:00   489434   505.30\n",
       "1 2009-12-01 07:46:00   489435   145.80\n",
       "2 2009-12-01 09:06:00   489436   630.33\n",
       "3 2009-12-01 09:08:00   489437   310.75\n",
       "4 2009-12-01 09:24:00   489438  2286.24"
      ]
     },
     "execution_count": 11,
     "metadata": {},
     "output_type": "execute_result"
    }
   ],
   "source": [
    "# Group respective invoice data and sum the revenue\n",
    "invoice_total = df.groupby(['InvoiceDate','Invoice'])['Revenue'].sum().reset_index()\n",
    "invoice_total.head()"
   ]
  },
  {
   "cell_type": "markdown",
   "id": "c7184ed9",
   "metadata": {},
   "source": [
    "Investigate the monthly sales trend."
   ]
  },
  {
   "cell_type": "code",
   "execution_count": 12,
   "id": "771c7f9b",
   "metadata": {},
   "outputs": [
    {
     "data": {
      "text/html": [
       "<div>\n",
       "<style scoped>\n",
       "    .dataframe tbody tr th:only-of-type {\n",
       "        vertical-align: middle;\n",
       "    }\n",
       "\n",
       "    .dataframe tbody tr th {\n",
       "        vertical-align: top;\n",
       "    }\n",
       "\n",
       "    .dataframe thead th {\n",
       "        text-align: right;\n",
       "    }\n",
       "</style>\n",
       "<table border=\"1\" class=\"dataframe\">\n",
       "  <thead>\n",
       "    <tr style=\"text-align: right;\">\n",
       "      <th></th>\n",
       "      <th>Month_Year</th>\n",
       "      <th>Invoice_Count</th>\n",
       "      <th>Monthly_Revenue</th>\n",
       "    </tr>\n",
       "  </thead>\n",
       "  <tbody>\n",
       "    <tr>\n",
       "      <th>0</th>\n",
       "      <td>2009-12</td>\n",
       "      <td>1901</td>\n",
       "      <td>660125.100</td>\n",
       "    </tr>\n",
       "    <tr>\n",
       "      <th>1</th>\n",
       "      <td>2010-01</td>\n",
       "      <td>1296</td>\n",
       "      <td>530436.512</td>\n",
       "    </tr>\n",
       "    <tr>\n",
       "      <th>2</th>\n",
       "      <td>2010-02</td>\n",
       "      <td>1335</td>\n",
       "      <td>487596.426</td>\n",
       "    </tr>\n",
       "    <tr>\n",
       "      <th>3</th>\n",
       "      <td>2010-03</td>\n",
       "      <td>1911</td>\n",
       "      <td>633419.311</td>\n",
       "    </tr>\n",
       "    <tr>\n",
       "      <th>4</th>\n",
       "      <td>2010-04</td>\n",
       "      <td>1617</td>\n",
       "      <td>558007.832</td>\n",
       "    </tr>\n",
       "  </tbody>\n",
       "</table>\n",
       "</div>"
      ],
      "text/plain": [
       "  Month_Year  Invoice_Count  Monthly_Revenue\n",
       "0    2009-12           1901       660125.100\n",
       "1    2010-01           1296       530436.512\n",
       "2    2010-02           1335       487596.426\n",
       "3    2010-03           1911       633419.311\n",
       "4    2010-04           1617       558007.832"
      ]
     },
     "execution_count": 12,
     "metadata": {},
     "output_type": "execute_result"
    }
   ],
   "source": [
    "# Get month and year from the InvoiceDate\n",
    "invoice_total['Month_Year'] = invoice_total['InvoiceDate'].dt.to_period('M')\n",
    "\n",
    "# Aggregate monthly revenue\n",
    "monthly_rev_df = invoice_total.groupby(['Month_Year']).agg({'Invoice': 'count', 'Revenue': 'sum'}).reset_index()\n",
    "\n",
    "# Rename the columns informatively\n",
    "monthly_rev_df = monthly_rev_df.rename(columns={'Invoice': 'Invoice_Count', 'Revenue': 'Monthly_Revenue'})\n",
    "monthly_rev_df.head()"
   ]
  },
  {
   "cell_type": "markdown",
   "id": "294c9665",
   "metadata": {},
   "source": [
    "Visualize the results."
   ]
  },
  {
   "cell_type": "code",
   "execution_count": 13,
   "id": "9b0573a0",
   "metadata": {
    "scrolled": true
   },
   "outputs": [
    {
     "data": {
      "image/png": "[encoded data removed]",
      "text/plain": [
       "<Figure size 1080x576 with 2 Axes>"
      ]
     },
     "metadata": {
      "needs_background": "light"
     },
     "output_type": "display_data"
    }
   ],
   "source": [
    "# Create the figure\n",
    "fig, ax = dep.plt.subplots(figsize=(15, 8))\n",
    "\n",
    "# Format the Month_Year column\n",
    "monthly_rev_df['Month_Year'] = monthly_rev_df['Month_Year'].dt.to_timestamp('s').dt.strftime('%Y-%m')\n",
    "\n",
    "# Figure settings\n",
    "ax.set_title('Sales Distribution')\n",
    "ax.set_xlabel('Month')\n",
    "\n",
    "# Plot a bar chart - Invoice_Count\n",
    "ax.bar(monthly_rev_df['Month_Year'], height=monthly_rev_df['Invoice_Count'], color = 'b')\n",
    "ax.set_ylabel('No. of Invoices', color = 'b')\n",
    "ax.tick_params(axis = 'y', colors = 'b')\n",
    "ax.tick_params(axis = 'x', rotation = 45)\n",
    "\n",
    "# Plot a line chart - Monthly Revenue\n",
    "ax2 = ax.twinx()\n",
    "ax2.plot(monthly_rev_df['Month_Year'], monthly_rev_df['Monthly_Revenue'], color='r')\n",
    "ax2.set_ylabel('Monthly Revenue', color = 'r')\n",
    "ax2.tick_params(axis = 'y', colors = 'r')\n",
    "ax2.get_yaxis().get_major_formatter().set_scientific(False)\n",
    "\n",
    "# Save the plot\n",
    "dep.plt.savefig('images/sales_distribution.png')\n",
    "\n",
    "# Show the plot\n",
    "dep.plt.show()"
   ]
  },
  {
   "cell_type": "markdown",
   "id": "94d1fc73",
   "metadata": {},
   "source": [
    "#### Observations:\n",
    "\n",
    "- The number of invoices is directly proportional to the corresponding revenue. This implies that generally there is a cap in the amount spent per purchase.\n",
    "- There are spikes between the months of September to November. This could be associated to the holiday season.\n",
    "- Sales are generally low in January and February, with a slight spike in March."
   ]
  },
  {
   "cell_type": "markdown",
   "id": "1ed9864f",
   "metadata": {},
   "source": [
    "### Basket Size"
   ]
  },
  {
   "cell_type": "markdown",
   "id": "89443979",
   "metadata": {},
   "source": [
    "Basket size refers to the number of products a customer purchases in a single transaction. In this case, it is the total number of products per invoice."
   ]
  },
  {
   "cell_type": "code",
   "execution_count": 14,
   "id": "f08d6766",
   "metadata": {},
   "outputs": [
    {
     "data": {
      "text/html": [
       "<div>\n",
       "<style scoped>\n",
       "    .dataframe tbody tr th:only-of-type {\n",
       "        vertical-align: middle;\n",
       "    }\n",
       "\n",
       "    .dataframe tbody tr th {\n",
       "        vertical-align: top;\n",
       "    }\n",
       "\n",
       "    .dataframe thead th {\n",
       "        text-align: right;\n",
       "    }\n",
       "</style>\n",
       "<table border=\"1\" class=\"dataframe\">\n",
       "  <thead>\n",
       "    <tr style=\"text-align: right;\">\n",
       "      <th></th>\n",
       "      <th>InvoiceDate</th>\n",
       "      <th>Invoice</th>\n",
       "      <th>No_of_Prod_Units</th>\n",
       "    </tr>\n",
       "  </thead>\n",
       "  <tbody>\n",
       "    <tr>\n",
       "      <th>0</th>\n",
       "      <td>2009-12-01 07:45:00</td>\n",
       "      <td>489434</td>\n",
       "      <td>166</td>\n",
       "    </tr>\n",
       "    <tr>\n",
       "      <th>1</th>\n",
       "      <td>2009-12-01 07:46:00</td>\n",
       "      <td>489435</td>\n",
       "      <td>60</td>\n",
       "    </tr>\n",
       "    <tr>\n",
       "      <th>2</th>\n",
       "      <td>2009-12-01 09:06:00</td>\n",
       "      <td>489436</td>\n",
       "      <td>193</td>\n",
       "    </tr>\n",
       "    <tr>\n",
       "      <th>3</th>\n",
       "      <td>2009-12-01 09:08:00</td>\n",
       "      <td>489437</td>\n",
       "      <td>145</td>\n",
       "    </tr>\n",
       "    <tr>\n",
       "      <th>4</th>\n",
       "      <td>2009-12-01 09:24:00</td>\n",
       "      <td>489438</td>\n",
       "      <td>826</td>\n",
       "    </tr>\n",
       "  </tbody>\n",
       "</table>\n",
       "</div>"
      ],
      "text/plain": [
       "          InvoiceDate  Invoice  No_of_Prod_Units\n",
       "0 2009-12-01 07:45:00   489434               166\n",
       "1 2009-12-01 07:46:00   489435                60\n",
       "2 2009-12-01 09:06:00   489436               193\n",
       "3 2009-12-01 09:08:00   489437               145\n",
       "4 2009-12-01 09:24:00   489438               826"
      ]
     },
     "execution_count": 14,
     "metadata": {},
     "output_type": "execute_result"
    }
   ],
   "source": [
    "# Group and count products per invoice\n",
    "basket_size = df.groupby(['InvoiceDate','Invoice'])['Quantity'].sum().reset_index()\n",
    "\n",
    "# Rename StockCode column\n",
    "basket_size = basket_size.rename(columns={'Quantity': 'No_of_Prod_Units'})\n",
    "basket_size.head()"
   ]
  },
  {
   "cell_type": "markdown",
   "id": "db342f30",
   "metadata": {},
   "source": [
    "Observe the change in the monthly average basket size across time."
   ]
  },
  {
   "cell_type": "code",
   "execution_count": 15,
   "id": "0accd731",
   "metadata": {},
   "outputs": [
    {
     "data": {
      "image/png": "[encoded data removed]",
      "text/plain": [
       "<Figure size 1080x576 with 1 Axes>"
      ]
     },
     "metadata": {
      "needs_background": "light"
     },
     "output_type": "display_data"
    }
   ],
   "source": [
    "# Aggregate monthly data\n",
    "basket_size['Month_Year'] = basket_size['InvoiceDate'].dt.to_period('M')\n",
    "agg_basket_size = basket_size.groupby(['Month_Year']).agg({'Invoice': 'count', 'No_of_Prod_Units': 'sum'}).reset_index()\n",
    "\n",
    "# Compute average\n",
    "agg_basket_size['Avg_Basket_Size'] = agg_basket_size['No_of_Prod_Units'] / agg_basket_size['Invoice']\n",
    "\n",
    "# Visualize\n",
    "fig, ax = dep.plt.subplots(figsize=(15, 8))\n",
    "agg_basket_size['Month_Year'] = agg_basket_size['Month_Year'].dt.to_timestamp('s').dt.strftime('%Y-%m')\n",
    "ax.plot(agg_basket_size['Month_Year'], agg_basket_size['Avg_Basket_Size'])\n",
    "ax.set_title('Average Basket Size')\n",
    "ax.set_xlabel('Month')\n",
    "ax.set_ylabel('No. of Product Units')\n",
    "ax.tick_params(axis = 'x', rotation = 45)\n",
    "dep.plt.savefig('images/avg_basket_size.png')\n",
    "dep.plt.show()"
   ]
  },
  {
   "cell_type": "markdown",
   "id": "209bd40d",
   "metadata": {},
   "source": [
    "#### Observations:\n",
    "\n",
    "- There isn't a disctinct pattern in the average basket size.\n",
    "- On average, a basket contains between 170 and 290 product units."
   ]
  },
  {
   "cell_type": "markdown",
   "id": "2f052e8b",
   "metadata": {},
   "source": [
    "### Customer Patterns"
   ]
  },
  {
   "cell_type": "code",
   "execution_count": null,
   "id": "abf491ce",
   "metadata": {},
   "outputs": [],
   "source": []
  }
 ],
 "metadata": {
  "kernelspec": {
   "display_name": "Python 3 (ipykernel)",
   "language": "python",
   "name": "python3"
  },
  "language_info": {
   "codemirror_mode": {
    "name": "ipython",
    "version": 3
   },
   "file_extension": ".py",
   "mimetype": "text/x-python",
   "name": "python",
   "nbconvert_exporter": "python",
   "pygments_lexer": "ipython3",
   "version": "3.9.12"
  }
 },
 "nbformat": 4,
 "nbformat_minor": 5
}
