{
 "cells": [
  {
   "cell_type": "markdown",
   "id": "01966303",
   "metadata": {},
   "source": [
    "# Product Bundling and Recommendation"
   ]
  },
  {
   "cell_type": "markdown",
   "id": "b46adee2",
   "metadata": {},
   "source": [
    "## Product Bundling"
   ]
  },
  {
   "cell_type": "markdown",
   "id": "8b9a89d5",
   "metadata": {},
   "source": [
    "![Example Product Bundle. Credits: Burger King](https://cxl.com/wp-content/uploads/2018/10/burger-king-bundle.png)"
   ]
  },
  {
   "cell_type": "markdown",
   "id": "da2ef879",
   "metadata": {},
   "source": [
    "<p style = 'text-align: center;'>Image Credits: Burger King</p>"
   ]
  },
  {
   "cell_type": "markdown",
   "id": "88f71c6c",
   "metadata": {},
   "source": [
    "Product bundling refers to grouping products or services together for sale as one package, as illustrated in the image above."
   ]
  },
  {
   "cell_type": "markdown",
   "id": "12363d1e",
   "metadata": {},
   "source": [
    "In order to identify the products that are ideal for bundling, we will perform **market basket analysis** which is a data mining technique used to identify relationships between products that are frequently purchased together. In technical terms, _market basket analysis_ is **Association Rule Mining** whose goal is to identify rules that describe the likelihood of a product being purchased together with other products."
   ]
  },
  {
   "cell_type": "markdown",
   "id": "7acb3efd",
   "metadata": {},
   "source": [
    "There is a number of algorithms that one can use to perform market basket analysis including:\n",
    "- Apriori Algorithm\n",
    "- AIS Algorithm\n",
    "- SETM Algorithm\n",
    "- FP Growth Algorithm\n",
    "\n",
    "**Apriori algorithm** is a _popular_ algorithm in association rule mining and it _performs better_ than AIS and SETM algorithms. However, it is _computationally expensive_ when working on a large dataset therefore we shall use **FP Growth algorithm** which is an advancement of Apriori algorithm."
   ]
  },
  {
   "cell_type": "markdown",
   "id": "a3cfaa3c",
   "metadata": {},
   "source": [
    "### Import Packages"
   ]
  },
  {
   "cell_type": "code",
   "execution_count": 1,
   "id": "ec0e6fb7",
   "metadata": {},
   "outputs": [],
   "source": [
    "# Module containing all libraries used\n",
    "import src.dependencies as dep\n",
    "\n",
    "# Module containing custom functions\n",
    "import src.functions as fn"
   ]
  },
  {
   "cell_type": "markdown",
   "id": "5a92b762",
   "metadata": {},
   "source": [
    "### Load the Dataset"
   ]
  },
  {
   "cell_type": "markdown",
   "id": "ad8a4c68",
   "metadata": {},
   "source": [
    "The dataset is the transformed version obtained from [UC Irvine Machine Learning Repository](https://archive.ics.uci.edu/dataset/502/online+retail+ii)."
   ]
  },
  {
   "cell_type": "code",
   "execution_count": 2,
   "id": "a29a9d54",
   "metadata": {},
   "outputs": [
    {
     "data": {
      "text/html": [
       "<div>\n",
       "<style scoped>\n",
       "    .dataframe tbody tr th:only-of-type {\n",
       "        vertical-align: middle;\n",
       "    }\n",
       "\n",
       "    .dataframe tbody tr th {\n",
       "        vertical-align: top;\n",
       "    }\n",
       "\n",
       "    .dataframe thead th {\n",
       "        text-align: right;\n",
       "    }\n",
       "</style>\n",
       "<table border=\"1\" class=\"dataframe\">\n",
       "  <thead>\n",
       "    <tr style=\"text-align: right;\">\n",
       "      <th></th>\n",
       "      <th>Invoice</th>\n",
       "      <th>StockCode</th>\n",
       "      <th>Description</th>\n",
       "      <th>Quantity</th>\n",
       "      <th>InvoiceDate</th>\n",
       "      <th>Price</th>\n",
       "      <th>Customer ID</th>\n",
       "      <th>Country</th>\n",
       "    </tr>\n",
       "  </thead>\n",
       "  <tbody>\n",
       "    <tr>\n",
       "      <th>0</th>\n",
       "      <td>489434</td>\n",
       "      <td>85048</td>\n",
       "      <td>15CM CHRISTMAS GLASS BALL 20 LIGHTS</td>\n",
       "      <td>12</td>\n",
       "      <td>2009-12-01 07:45:00</td>\n",
       "      <td>6.95</td>\n",
       "      <td>13085</td>\n",
       "      <td>United Kingdom</td>\n",
       "    </tr>\n",
       "    <tr>\n",
       "      <th>1</th>\n",
       "      <td>489434</td>\n",
       "      <td>79323P</td>\n",
       "      <td>PINK CHERRY LIGHTS</td>\n",
       "      <td>12</td>\n",
       "      <td>2009-12-01 07:45:00</td>\n",
       "      <td>6.75</td>\n",
       "      <td>13085</td>\n",
       "      <td>United Kingdom</td>\n",
       "    </tr>\n",
       "    <tr>\n",
       "      <th>2</th>\n",
       "      <td>489434</td>\n",
       "      <td>79323W</td>\n",
       "      <td>WHITE CHERRY LIGHTS</td>\n",
       "      <td>12</td>\n",
       "      <td>2009-12-01 07:45:00</td>\n",
       "      <td>6.75</td>\n",
       "      <td>13085</td>\n",
       "      <td>United Kingdom</td>\n",
       "    </tr>\n",
       "    <tr>\n",
       "      <th>3</th>\n",
       "      <td>489434</td>\n",
       "      <td>22041</td>\n",
       "      <td>RECORD FRAME 7\" SINGLE SIZE</td>\n",
       "      <td>48</td>\n",
       "      <td>2009-12-01 07:45:00</td>\n",
       "      <td>2.10</td>\n",
       "      <td>13085</td>\n",
       "      <td>United Kingdom</td>\n",
       "    </tr>\n",
       "    <tr>\n",
       "      <th>4</th>\n",
       "      <td>489434</td>\n",
       "      <td>21232</td>\n",
       "      <td>STRAWBERRY CERAMIC TRINKET BOX</td>\n",
       "      <td>24</td>\n",
       "      <td>2009-12-01 07:45:00</td>\n",
       "      <td>1.25</td>\n",
       "      <td>13085</td>\n",
       "      <td>United Kingdom</td>\n",
       "    </tr>\n",
       "  </tbody>\n",
       "</table>\n",
       "</div>"
      ],
      "text/plain": [
       "   Invoice StockCode                          Description  Quantity  \\\n",
       "0   489434     85048  15CM CHRISTMAS GLASS BALL 20 LIGHTS        12   \n",
       "1   489434    79323P                   PINK CHERRY LIGHTS        12   \n",
       "2   489434    79323W                  WHITE CHERRY LIGHTS        12   \n",
       "3   489434     22041         RECORD FRAME 7\" SINGLE SIZE         48   \n",
       "4   489434     21232       STRAWBERRY CERAMIC TRINKET BOX        24   \n",
       "\n",
       "           InvoiceDate  Price  Customer ID         Country  \n",
       "0  2009-12-01 07:45:00   6.95        13085  United Kingdom  \n",
       "1  2009-12-01 07:45:00   6.75        13085  United Kingdom  \n",
       "2  2009-12-01 07:45:00   6.75        13085  United Kingdom  \n",
       "3  2009-12-01 07:45:00   2.10        13085  United Kingdom  \n",
       "4  2009-12-01 07:45:00   1.25        13085  United Kingdom  "
      ]
     },
     "execution_count": 2,
     "metadata": {},
     "output_type": "execute_result"
    }
   ],
   "source": [
    "# Load data\n",
    "df = dep.pd.read_csv('dataset/Transformed.csv')\n",
    "\n",
    "# Confirm successful loading\n",
    "df.head()"
   ]
  },
  {
   "cell_type": "markdown",
   "id": "2b59aea6",
   "metadata": {},
   "source": [
    "### Preprocess the Data"
   ]
  },
  {
   "cell_type": "markdown",
   "id": "5c260494",
   "metadata": {},
   "source": [
    "Since the data is already transformed, we will proceed to extract the data we need to implement the FP Growth algorithm. The features of interest are:\n",
    "- `Invoice`: It acts as the transaction identifier\n",
    "- `StockCode`: It acts as the product identifier"
   ]
  },
  {
   "cell_type": "code",
   "execution_count": 3,
   "id": "17fd81a4",
   "metadata": {},
   "outputs": [
    {
     "data": {
      "text/html": [
       "<div>\n",
       "<style scoped>\n",
       "    .dataframe tbody tr th:only-of-type {\n",
       "        vertical-align: middle;\n",
       "    }\n",
       "\n",
       "    .dataframe tbody tr th {\n",
       "        vertical-align: top;\n",
       "    }\n",
       "\n",
       "    .dataframe thead th {\n",
       "        text-align: right;\n",
       "    }\n",
       "</style>\n",
       "<table border=\"1\" class=\"dataframe\">\n",
       "  <thead>\n",
       "    <tr style=\"text-align: right;\">\n",
       "      <th></th>\n",
       "      <th>Transaction</th>\n",
       "      <th>Products</th>\n",
       "    </tr>\n",
       "  </thead>\n",
       "  <tbody>\n",
       "    <tr>\n",
       "      <th>0</th>\n",
       "      <td>489434</td>\n",
       "      <td>85048</td>\n",
       "    </tr>\n",
       "    <tr>\n",
       "      <th>1</th>\n",
       "      <td>489434</td>\n",
       "      <td>79323P</td>\n",
       "    </tr>\n",
       "    <tr>\n",
       "      <th>2</th>\n",
       "      <td>489434</td>\n",
       "      <td>79323W</td>\n",
       "    </tr>\n",
       "    <tr>\n",
       "      <th>3</th>\n",
       "      <td>489434</td>\n",
       "      <td>22041</td>\n",
       "    </tr>\n",
       "    <tr>\n",
       "      <th>4</th>\n",
       "      <td>489434</td>\n",
       "      <td>21232</td>\n",
       "    </tr>\n",
       "  </tbody>\n",
       "</table>\n",
       "</div>"
      ],
      "text/plain": [
       "   Transaction Products\n",
       "0       489434    85048\n",
       "1       489434   79323P\n",
       "2       489434   79323W\n",
       "3       489434    22041\n",
       "4       489434    21232"
      ]
     },
     "execution_count": 3,
     "metadata": {},
     "output_type": "execute_result"
    }
   ],
   "source": [
    "# Get features\n",
    "features_df = df[['Invoice', 'StockCode']]\n",
    "\n",
    "# Rename them\n",
    "features_df = features_df.rename(columns = {'Invoice': 'Transaction', 'StockCode': 'Products'})\n",
    "features_df.head()"
   ]
  },
  {
   "cell_type": "markdown",
   "id": "e3f5cb37",
   "metadata": {},
   "source": [
    "Next, we have to group the items in a transaction, as a list, figuratively, place the products in the invoice 'cart'."
   ]
  },
  {
   "cell_type": "code",
   "execution_count": 4,
   "id": "7bec4216",
   "metadata": {},
   "outputs": [
    {
     "data": {
      "text/html": [
       "<div>\n",
       "<style scoped>\n",
       "    .dataframe tbody tr th:only-of-type {\n",
       "        vertical-align: middle;\n",
       "    }\n",
       "\n",
       "    .dataframe tbody tr th {\n",
       "        vertical-align: top;\n",
       "    }\n",
       "\n",
       "    .dataframe thead th {\n",
       "        text-align: right;\n",
       "    }\n",
       "</style>\n",
       "<table border=\"1\" class=\"dataframe\">\n",
       "  <thead>\n",
       "    <tr style=\"text-align: right;\">\n",
       "      <th></th>\n",
       "      <th>Transaction</th>\n",
       "      <th>Products</th>\n",
       "    </tr>\n",
       "  </thead>\n",
       "  <tbody>\n",
       "    <tr>\n",
       "      <th>0</th>\n",
       "      <td>489434</td>\n",
       "      <td>[85048, 79323P, 79323W, 22041, 21232, 22064, 2...</td>\n",
       "    </tr>\n",
       "    <tr>\n",
       "      <th>1</th>\n",
       "      <td>489435</td>\n",
       "      <td>[22350, 22349, 22195, 22353]</td>\n",
       "    </tr>\n",
       "    <tr>\n",
       "      <th>2</th>\n",
       "      <td>489436</td>\n",
       "      <td>[48173C, 21755, 21754, 84879, 22119, 22142, 22...</td>\n",
       "    </tr>\n",
       "    <tr>\n",
       "      <th>3</th>\n",
       "      <td>489437</td>\n",
       "      <td>[22143, 22145, 22130, 21364, 21360, 21351, 213...</td>\n",
       "    </tr>\n",
       "    <tr>\n",
       "      <th>4</th>\n",
       "      <td>489438</td>\n",
       "      <td>[21329, 21252, 21100, 21033, 20711, 21410, 214...</td>\n",
       "    </tr>\n",
       "  </tbody>\n",
       "</table>\n",
       "</div>"
      ],
      "text/plain": [
       "   Transaction                                           Products\n",
       "0       489434  [85048, 79323P, 79323W, 22041, 21232, 22064, 2...\n",
       "1       489435                       [22350, 22349, 22195, 22353]\n",
       "2       489436  [48173C, 21755, 21754, 84879, 22119, 22142, 22...\n",
       "3       489437  [22143, 22145, 22130, 21364, 21360, 21351, 213...\n",
       "4       489438  [21329, 21252, 21100, 21033, 20711, 21410, 214..."
      ]
     },
     "execution_count": 4,
     "metadata": {},
     "output_type": "execute_result"
    }
   ],
   "source": [
    "# Group the items\n",
    "transactions_df = features_df.groupby('Transaction')['Products'].apply(list).reset_index()\n",
    "transactions_df.head()"
   ]
  },
  {
   "cell_type": "markdown",
   "id": "3a7b9218",
   "metadata": {},
   "source": [
    "We will also convert the `Products` column into a list, making it a list of lists."
   ]
  },
  {
   "cell_type": "code",
   "execution_count": 7,
   "id": "af7db02d",
   "metadata": {},
   "outputs": [
    {
     "data": {
      "text/plain": [
       "[['85048', '79323P', '79323W', '22041', '21232', '22064', '21871', '21523'],\n",
       " ['22350', '22349', '22195', '22353']]"
      ]
     },
     "execution_count": 7,
     "metadata": {},
     "output_type": "execute_result"
    }
   ],
   "source": [
    "# Get the lists of products\n",
    "transactions = transactions_df['Products'].tolist()\n",
    "\n",
    "# Check the first 2 entries in the list\n",
    "transactions[0:2]"
   ]
  },
  {
   "cell_type": "markdown",
   "id": "5d98a99b",
   "metadata": {},
   "source": [
    "Finally, encode the transactions into a NumPy array."
   ]
  },
  {
   "cell_type": "code",
   "execution_count": 8,
   "id": "eb182586",
   "metadata": {},
   "outputs": [],
   "source": [
    "# Encode\n",
    "encoder = dep.TransactionEncoder()\n",
    "encoded_transactions = encoder.fit(transactions).transform(transactions)"
   ]
  },
  {
   "cell_type": "markdown",
   "id": "13fc9bd3",
   "metadata": {},
   "source": [
    "### Modeling"
   ]
  },
  {
   "cell_type": "markdown",
   "id": "eab870d2",
   "metadata": {},
   "source": [
    "We will generate the frequent itemsets using `fpgrowth()` function. Since the function expects a one-hot encoded DataFrame, we will convert the encoded array into a dataframe first."
   ]
  },
  {
   "cell_type": "code",
   "execution_count": 9,
   "id": "6e521954",
   "metadata": {},
   "outputs": [
    {
     "data": {
      "text/html": [
       "<div>\n",
       "<style scoped>\n",
       "    .dataframe tbody tr th:only-of-type {\n",
       "        vertical-align: middle;\n",
       "    }\n",
       "\n",
       "    .dataframe tbody tr th {\n",
       "        vertical-align: top;\n",
       "    }\n",
       "\n",
       "    .dataframe thead th {\n",
       "        text-align: right;\n",
       "    }\n",
       "</style>\n",
       "<table border=\"1\" class=\"dataframe\">\n",
       "  <thead>\n",
       "    <tr style=\"text-align: right;\">\n",
       "      <th></th>\n",
       "      <th>10002</th>\n",
       "      <th>10080</th>\n",
       "      <th>10109</th>\n",
       "      <th>10120</th>\n",
       "      <th>10123C</th>\n",
       "      <th>10123G</th>\n",
       "      <th>10124A</th>\n",
       "      <th>10124G</th>\n",
       "      <th>10125</th>\n",
       "      <th>10133</th>\n",
       "      <th>...</th>\n",
       "      <th>C2</th>\n",
       "      <th>CRUK</th>\n",
       "      <th>D</th>\n",
       "      <th>DOT</th>\n",
       "      <th>M</th>\n",
       "      <th>PADS</th>\n",
       "      <th>POST</th>\n",
       "      <th>SP1002</th>\n",
       "      <th>TEST001</th>\n",
       "      <th>TEST002</th>\n",
       "    </tr>\n",
       "  </thead>\n",
       "  <tbody>\n",
       "    <tr>\n",
       "      <th>0</th>\n",
       "      <td>False</td>\n",
       "      <td>False</td>\n",
       "      <td>False</td>\n",
       "      <td>False</td>\n",
       "      <td>False</td>\n",
       "      <td>False</td>\n",
       "      <td>False</td>\n",
       "      <td>False</td>\n",
       "      <td>False</td>\n",
       "      <td>False</td>\n",
       "      <td>...</td>\n",
       "      <td>False</td>\n",
       "      <td>False</td>\n",
       "      <td>False</td>\n",
       "      <td>False</td>\n",
       "      <td>False</td>\n",
       "      <td>False</td>\n",
       "      <td>False</td>\n",
       "      <td>False</td>\n",
       "      <td>False</td>\n",
       "      <td>False</td>\n",
       "    </tr>\n",
       "    <tr>\n",
       "      <th>1</th>\n",
       "      <td>False</td>\n",
       "      <td>False</td>\n",
       "      <td>False</td>\n",
       "      <td>False</td>\n",
       "      <td>False</td>\n",
       "      <td>False</td>\n",
       "      <td>False</td>\n",
       "      <td>False</td>\n",
       "      <td>False</td>\n",
       "      <td>False</td>\n",
       "      <td>...</td>\n",
       "      <td>False</td>\n",
       "      <td>False</td>\n",
       "      <td>False</td>\n",
       "      <td>False</td>\n",
       "      <td>False</td>\n",
       "      <td>False</td>\n",
       "      <td>False</td>\n",
       "      <td>False</td>\n",
       "      <td>False</td>\n",
       "      <td>False</td>\n",
       "    </tr>\n",
       "    <tr>\n",
       "      <th>2</th>\n",
       "      <td>False</td>\n",
       "      <td>False</td>\n",
       "      <td>False</td>\n",
       "      <td>False</td>\n",
       "      <td>False</td>\n",
       "      <td>False</td>\n",
       "      <td>False</td>\n",
       "      <td>False</td>\n",
       "      <td>False</td>\n",
       "      <td>False</td>\n",
       "      <td>...</td>\n",
       "      <td>False</td>\n",
       "      <td>False</td>\n",
       "      <td>False</td>\n",
       "      <td>False</td>\n",
       "      <td>False</td>\n",
       "      <td>False</td>\n",
       "      <td>False</td>\n",
       "      <td>False</td>\n",
       "      <td>False</td>\n",
       "      <td>False</td>\n",
       "    </tr>\n",
       "    <tr>\n",
       "      <th>3</th>\n",
       "      <td>True</td>\n",
       "      <td>False</td>\n",
       "      <td>False</td>\n",
       "      <td>False</td>\n",
       "      <td>False</td>\n",
       "      <td>False</td>\n",
       "      <td>False</td>\n",
       "      <td>False</td>\n",
       "      <td>False</td>\n",
       "      <td>False</td>\n",
       "      <td>...</td>\n",
       "      <td>False</td>\n",
       "      <td>False</td>\n",
       "      <td>False</td>\n",
       "      <td>False</td>\n",
       "      <td>False</td>\n",
       "      <td>False</td>\n",
       "      <td>False</td>\n",
       "      <td>False</td>\n",
       "      <td>False</td>\n",
       "      <td>False</td>\n",
       "    </tr>\n",
       "    <tr>\n",
       "      <th>4</th>\n",
       "      <td>False</td>\n",
       "      <td>False</td>\n",
       "      <td>False</td>\n",
       "      <td>False</td>\n",
       "      <td>False</td>\n",
       "      <td>False</td>\n",
       "      <td>False</td>\n",
       "      <td>False</td>\n",
       "      <td>False</td>\n",
       "      <td>False</td>\n",
       "      <td>...</td>\n",
       "      <td>False</td>\n",
       "      <td>False</td>\n",
       "      <td>False</td>\n",
       "      <td>False</td>\n",
       "      <td>False</td>\n",
       "      <td>False</td>\n",
       "      <td>False</td>\n",
       "      <td>False</td>\n",
       "      <td>False</td>\n",
       "      <td>False</td>\n",
       "    </tr>\n",
       "  </tbody>\n",
       "</table>\n",
       "<p>5 rows × 4646 columns</p>\n",
       "</div>"
      ],
      "text/plain": [
       "   10002  10080  10109  10120  10123C  10123G  10124A  10124G  10125  10133  \\\n",
       "0  False  False  False  False   False   False   False   False  False  False   \n",
       "1  False  False  False  False   False   False   False   False  False  False   \n",
       "2  False  False  False  False   False   False   False   False  False  False   \n",
       "3   True  False  False  False   False   False   False   False  False  False   \n",
       "4  False  False  False  False   False   False   False   False  False  False   \n",
       "\n",
       "   ...     C2   CRUK      D    DOT      M   PADS   POST  SP1002  TEST001  \\\n",
       "0  ...  False  False  False  False  False  False  False   False    False   \n",
       "1  ...  False  False  False  False  False  False  False   False    False   \n",
       "2  ...  False  False  False  False  False  False  False   False    False   \n",
       "3  ...  False  False  False  False  False  False  False   False    False   \n",
       "4  ...  False  False  False  False  False  False  False   False    False   \n",
       "\n",
       "   TEST002  \n",
       "0    False  \n",
       "1    False  \n",
       "2    False  \n",
       "3    False  \n",
       "4    False  \n",
       "\n",
       "[5 rows x 4646 columns]"
      ]
     },
     "execution_count": 9,
     "metadata": {},
     "output_type": "execute_result"
    }
   ],
   "source": [
    "# Array to Dataframe\n",
    "encoded_df = dep.pd.DataFrame(encoded_transactions, columns = encoder.columns_)\n",
    "encoded_df.head()"
   ]
  },
  {
   "cell_type": "code",
   "execution_count": null,
   "id": "e41c7c43",
   "metadata": {},
   "outputs": [],
   "source": []
  },
  {
   "cell_type": "markdown",
   "id": "902cba52",
   "metadata": {},
   "source": [
    "## References"
   ]
  },
  {
   "cell_type": "markdown",
   "id": "16b5d58d",
   "metadata": {},
   "source": [
    "- [Apriori Algorithm in Machine Learning](https://www.javatpoint.com/apriori-algorithm-in-machine-learning)\n",
    "- [FP Growth Algorithm Explained With Numerical Example](https://codinginfinite.com/fp-growth-algorithm-explained-with-numerical-example/)\n",
    "- [Implement FP Growth Algorithm in Python](https://codinginfinite.com/implement-fp-growth-algorithm-in-python/)\n",
    "- [Introduction to Apriori Algorithm in Python](https://intellipaat.com/blog/data-science-apriori-algorithm/)\n",
    "- [Market Basket Analysis: A Comprehensive Guide for Businesses](https://www.analyticsvidhya.com/blog/2021/10/a-comprehensive-guide-on-market-basket-analysis/)\n",
    "- [Product Sales Analysis Using Python](https://medium.com/swlh/product-sales-analysis-using-python-863b29026957)"
   ]
  },
  {
   "cell_type": "code",
   "execution_count": null,
   "id": "a3782b58",
   "metadata": {},
   "outputs": [],
   "source": []
  }
 ],
 "metadata": {
  "kernelspec": {
   "display_name": "Python 3 (ipykernel)",
   "language": "python",
   "name": "python3"
  },
  "language_info": {
   "codemirror_mode": {
    "name": "ipython",
    "version": 3
   },
   "file_extension": ".py",
   "mimetype": "text/x-python",
   "name": "python",
   "nbconvert_exporter": "python",
   "pygments_lexer": "ipython3",
   "version": "3.9.12"
  }
 },
 "nbformat": 4,
 "nbformat_minor": 5
}
